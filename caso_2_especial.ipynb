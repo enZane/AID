{
 "cells": [
  {
   "cell_type": "markdown",
   "metadata": {},
   "source": [
    "# Objetivo\n",
    "\n",
    "Evaluar y comparar los modelos de regresión lineal simple y polinomial de segunda y quinta potencia con datos de Adverstising_WEB.csv y programación Python.\n",
    "\n",
    "# Descripción\n",
    "\n",
    "Se cargan los datos de la dirección:<https://raw.githubusercontent.com/rpizarrog/Analisis-Inteligente-de-datos/main/datos/Advertising_Web.csv>\n",
    "\n",
    "Los datos contienen variables que en el contexto se interpreta que son inversiones hechas de una empresa y las ventas de la misma, a tanta inversión de marketing en medios tales como TV, Radio, *NewsPapers* (medios impresos) y *Web* (digital) existe en relacuón a las ventas (*Sales*) generadas.\n",
    "\n",
    "Se trata de comparar modelos predictivos para evaluar cuál es mejor con respecto a los estadísticos *R Square* y *RMSE*.\n",
    "\n",
    "Las variables de interés serán:\n",
    "\n",
    "-   **TV** como variable independiente o la variable explicativa hacia la variables *Sales*\n",
    "\n",
    "-   **Sales** como variable dependiente que es la variable a predecir.\n",
    "\n",
    "-   Se construyen datos de entrenamiento y datos de validacion al 70 y 30% respectivamente\n",
    "\n",
    "Se construyen el modelo de regresión lineal simple con los datos de entrenamiento y se evaluán los siguiente aspectos:\n",
    "\n",
    "-   Se identifican los coeficientes a y b\n",
    "\n",
    "-   Se analizan los niveles de confianza de los coeficientes.\n",
    "\n",
    "-   Se identifica el valor de *R Square* par evaluar el grado de explicación de la variable dependiente con respecto a la variable independiente. El modelo **se acepta si está por encima del 60%.**\n",
    "\n",
    "-   Se hacen prediciones con la funcion *predict()* con los datos de validación.\n",
    "\n",
    "-   Se mide el valor de *RMSE Root Mean Stándar Error.*\n",
    "\n",
    "Se construye el modelo polinomial a la segunda potencia y quinta potencia con los datos de entrenamiento y se evalúan los siguientes aspectos.\n",
    "\n",
    "-   Se identifican los coeficientes\n",
    "\n",
    "-   Se analizan los niveles de confianza de los coeficientes.\n",
    "\n",
    "-   Se identifica el valor de *R Square* para evaluar el grado de explicación de la variable independiente con respecto a la variable dependiente. **Se acepta si está por encima del 60%**\n",
    "\n",
    "-   Se hacen predicciones con la función *predict()* con los datos de validación.\n",
    "\n",
    "-   Se mide el valor de *rmse Root Mean Stándar Error.*\n",
    "\n",
    "-   Para trabajar con código Python, se deben cargan las librerías de *Python* previamente instaladas con la función *py_install()* de la librería *reticulate* de R. La función *repl_python()* se utiliza para ejecutar ventana de comando o *shell* de *Python.*\n",
    "\n",
    "-   *py_install(packages = \"pandas\")*\n",
    "\n",
    "-   *py_install(packages = \"matplotlib\")*\n",
    "\n",
    "-   py_install(packages = \"numpy\")\n",
    "\n",
    "-   py_install(packages = \"sklearn\")\n",
    "\n",
    "# Desarrollo"
   ]
  },
  {
   "cell_type": "code",
   "execution_count": 1,
   "metadata": {},
   "outputs": [],
   "source": [
    "import pandas as pd\n",
    "import matplotlib.pyplot as plt\n",
    "import numpy as np\n",
    "from sklearn import linear_model\n",
    "from sklearn.linear_model import LinearRegression\n",
    "from sklearn.preprocessing import PolynomialFeatures # Polinomial\n",
    "from sklearn.model_selection import train_test_split\n",
    "from sklearn import metrics\n",
    "from sklearn.metrics import mean_squared_error, r2_score"
   ]
  },
  {
   "cell_type": "code",
   "execution_count": 2,
   "metadata": {},
   "outputs": [],
   "source": [
    "datos = pd.read_csv(\"https://raw.githubusercontent.com/rpizarrog/Analisis-Inteligente-de-datos/main/datos/Advertising_Web.csv\", encoding='latin1')"
   ]
  },
  {
   "cell_type": "code",
   "execution_count": 3,
   "metadata": {},
   "outputs": [
    {
     "data": {
      "text/html": [
       "<div>\n",
       "<style scoped>\n",
       "    .dataframe tbody tr th:only-of-type {\n",
       "        vertical-align: middle;\n",
       "    }\n",
       "\n",
       "    .dataframe tbody tr th {\n",
       "        vertical-align: top;\n",
       "    }\n",
       "\n",
       "    .dataframe thead th {\n",
       "        text-align: right;\n",
       "    }\n",
       "</style>\n",
       "<table border=\"1\" class=\"dataframe\">\n",
       "  <thead>\n",
       "    <tr style=\"text-align: right;\">\n",
       "      <th></th>\n",
       "      <th>Unnamed: 0</th>\n",
       "      <th>X</th>\n",
       "      <th>TV</th>\n",
       "      <th>Radio</th>\n",
       "      <th>Newspaper</th>\n",
       "      <th>Web</th>\n",
       "      <th>Sales</th>\n",
       "    </tr>\n",
       "  </thead>\n",
       "  <tbody>\n",
       "    <tr>\n",
       "      <th>0</th>\n",
       "      <td>1</td>\n",
       "      <td>1</td>\n",
       "      <td>230.1</td>\n",
       "      <td>37.8</td>\n",
       "      <td>69.2</td>\n",
       "      <td>306.634752</td>\n",
       "      <td>22.1</td>\n",
       "    </tr>\n",
       "    <tr>\n",
       "      <th>1</th>\n",
       "      <td>2</td>\n",
       "      <td>2</td>\n",
       "      <td>44.5</td>\n",
       "      <td>39.3</td>\n",
       "      <td>45.1</td>\n",
       "      <td>302.653070</td>\n",
       "      <td>10.4</td>\n",
       "    </tr>\n",
       "    <tr>\n",
       "      <th>2</th>\n",
       "      <td>3</td>\n",
       "      <td>3</td>\n",
       "      <td>17.2</td>\n",
       "      <td>45.9</td>\n",
       "      <td>69.3</td>\n",
       "      <td>49.498908</td>\n",
       "      <td>9.3</td>\n",
       "    </tr>\n",
       "    <tr>\n",
       "      <th>3</th>\n",
       "      <td>4</td>\n",
       "      <td>4</td>\n",
       "      <td>151.5</td>\n",
       "      <td>41.3</td>\n",
       "      <td>58.5</td>\n",
       "      <td>257.816893</td>\n",
       "      <td>18.5</td>\n",
       "    </tr>\n",
       "    <tr>\n",
       "      <th>4</th>\n",
       "      <td>5</td>\n",
       "      <td>5</td>\n",
       "      <td>180.8</td>\n",
       "      <td>10.8</td>\n",
       "      <td>58.4</td>\n",
       "      <td>195.660076</td>\n",
       "      <td>12.9</td>\n",
       "    </tr>\n",
       "    <tr>\n",
       "      <th>5</th>\n",
       "      <td>6</td>\n",
       "      <td>6</td>\n",
       "      <td>8.7</td>\n",
       "      <td>48.9</td>\n",
       "      <td>75.0</td>\n",
       "      <td>22.072395</td>\n",
       "      <td>7.2</td>\n",
       "    </tr>\n",
       "    <tr>\n",
       "      <th>6</th>\n",
       "      <td>7</td>\n",
       "      <td>7</td>\n",
       "      <td>57.5</td>\n",
       "      <td>32.8</td>\n",
       "      <td>23.5</td>\n",
       "      <td>246.811598</td>\n",
       "      <td>11.8</td>\n",
       "    </tr>\n",
       "    <tr>\n",
       "      <th>7</th>\n",
       "      <td>8</td>\n",
       "      <td>8</td>\n",
       "      <td>120.2</td>\n",
       "      <td>19.6</td>\n",
       "      <td>11.6</td>\n",
       "      <td>229.971459</td>\n",
       "      <td>13.2</td>\n",
       "    </tr>\n",
       "    <tr>\n",
       "      <th>8</th>\n",
       "      <td>9</td>\n",
       "      <td>9</td>\n",
       "      <td>8.6</td>\n",
       "      <td>2.1</td>\n",
       "      <td>1.0</td>\n",
       "      <td>144.617385</td>\n",
       "      <td>4.8</td>\n",
       "    </tr>\n",
       "    <tr>\n",
       "      <th>9</th>\n",
       "      <td>10</td>\n",
       "      <td>10</td>\n",
       "      <td>199.8</td>\n",
       "      <td>2.6</td>\n",
       "      <td>21.2</td>\n",
       "      <td>111.272264</td>\n",
       "      <td>10.6</td>\n",
       "    </tr>\n",
       "  </tbody>\n",
       "</table>\n",
       "</div>"
      ],
      "text/plain": [
       "   Unnamed: 0   X     TV  Radio  Newspaper         Web  Sales\n",
       "0           1   1  230.1   37.8       69.2  306.634752   22.1\n",
       "1           2   2   44.5   39.3       45.1  302.653070   10.4\n",
       "2           3   3   17.2   45.9       69.3   49.498908    9.3\n",
       "3           4   4  151.5   41.3       58.5  257.816893   18.5\n",
       "4           5   5  180.8   10.8       58.4  195.660076   12.9\n",
       "5           6   6    8.7   48.9       75.0   22.072395    7.2\n",
       "6           7   7   57.5   32.8       23.5  246.811598   11.8\n",
       "7           8   8  120.2   19.6       11.6  229.971459   13.2\n",
       "8           9   9    8.6    2.1        1.0  144.617385    4.8\n",
       "9          10  10  199.8    2.6       21.2  111.272264   10.6"
      ]
     },
     "execution_count": 3,
     "metadata": {},
     "output_type": "execute_result"
    }
   ],
   "source": [
    "datos.head(10)\n"
   ]
  },
  {
   "cell_type": "code",
   "execution_count": 4,
   "metadata": {},
   "outputs": [
    {
     "name": "stdout",
     "output_type": "stream",
     "text": [
      "Observaciones y variables:  (200, 7)\n",
      "Columnas y tipo de dato\n"
     ]
    },
    {
     "data": {
      "text/plain": [
       "Unnamed: 0      int64\n",
       "X               int64\n",
       "TV            float64\n",
       "Radio         float64\n",
       "Newspaper     float64\n",
       "Web           float64\n",
       "Sales         float64\n",
       "dtype: object"
      ]
     },
     "execution_count": 4,
     "metadata": {},
     "output_type": "execute_result"
    }
   ],
   "source": [
    "print(\"Observaciones y variables: \", datos.shape)\n",
    "print(\"Columnas y tipo de dato\")\n",
    "# datos.columns\n",
    "datos.dtypes"
   ]
  },
  {
   "cell_type": "code",
   "execution_count": 5,
   "metadata": {},
   "outputs": [
    {
     "data": {
      "text/plain": [
       "count    200.000000\n",
       "mean     147.042500\n",
       "std       85.854236\n",
       "min        0.700000\n",
       "25%       74.375000\n",
       "50%      149.750000\n",
       "75%      218.825000\n",
       "max      296.400000\n",
       "Name: TV, dtype: float64"
      ]
     },
     "execution_count": 5,
     "metadata": {},
     "output_type": "execute_result"
    }
   ],
   "source": [
    "datos['TV'].describe()"
   ]
  },
  {
   "cell_type": "code",
   "execution_count": 6,
   "metadata": {},
   "outputs": [
    {
     "data": {
      "text/plain": [
       "count    200.000000\n",
       "mean      14.022500\n",
       "std        5.217457\n",
       "min        1.600000\n",
       "25%       10.375000\n",
       "50%       12.900000\n",
       "75%       17.400000\n",
       "max       27.000000\n",
       "Name: Sales, dtype: float64"
      ]
     },
     "execution_count": 6,
     "metadata": {},
     "output_type": "execute_result"
    }
   ],
   "source": [
    "datos['Sales'].describe()\n"
   ]
  },
  {
   "cell_type": "markdown",
   "metadata": {},
   "source": [
    "### Dispersión de los datos"
   ]
  },
  {
   "cell_type": "code",
   "execution_count": 7,
   "metadata": {},
   "outputs": [
    {
     "data": {
      "text/plain": [
       "[<matplotlib.lines.Line2D at 0x14404cc70>]"
      ]
     },
     "execution_count": 7,
     "metadata": {},
     "output_type": "execute_result"
    },
    {
     "data": {
      "image/png": "[encoded data removed]",
      "text/plain": [
       "<Figure size 640x480 with 1 Axes>"
      ]
     },
     "metadata": {},
     "output_type": "display_data"
    }
   ],
   "source": [
    "plt.plot(datos['TV'], datos['Sales'], 'o', color= 'blue')\n"
   ]
  },
  {
   "cell_type": "markdown",
   "metadata": {},
   "source": [
    "### Construir Datos de entrenamiento y validación"
   ]
  },
  {
   "cell_type": "code",
   "execution_count": 8,
   "metadata": {},
   "outputs": [],
   "source": [
    "TV = datos[['TV']].to_numpy()\n",
    "Sales = datos[['Sales']].to_numpy()"
   ]
  },
  {
   "cell_type": "code",
   "execution_count": 9,
   "metadata": {},
   "outputs": [],
   "source": [
    "TV_train, TV_test, Sales_train, Sales_test = train_test_split(TV, Sales, test_size=0.3, random_state=1287)"
   ]
  },
  {
   "cell_type": "code",
   "execution_count": 10,
   "metadata": {},
   "outputs": [
    {
     "data": {
      "text/plain": [
       "(60, 1)"
      ]
     },
     "execution_count": 10,
     "metadata": {},
     "output_type": "execute_result"
    }
   ],
   "source": [
    "TV_train.shape\n",
    "TV_test.shape"
   ]
  },
  {
   "cell_type": "code",
   "execution_count": 11,
   "metadata": {},
   "outputs": [
    {
     "data": {
      "text/plain": [
       "array([[137.9],\n",
       "       [164.5],\n",
       "       [ 18.7],\n",
       "       [220.5],\n",
       "       [109.8],\n",
       "       [187.8],\n",
       "       [165.6],\n",
       "       [250.9],\n",
       "       [ 17.2]])"
      ]
     },
     "execution_count": 11,
     "metadata": {},
     "output_type": "execute_result"
    }
   ],
   "source": [
    "TV_train[1:10]\n",
    "TV_test[1:10]"
   ]
  },
  {
   "cell_type": "markdown",
   "metadata": {},
   "source": [
    "## Modelo de regresión lineal simple"
   ]
  },
  {
   "cell_type": "code",
   "execution_count": 12,
   "metadata": {},
   "outputs": [
    {
     "data": {
      "text/html": [
       "<style>#sk-container-id-1 {color: black;background-color: white;}#sk-container-id-1 pre{padding: 0;}#sk-container-id-1 div.sk-toggleable {background-color: white;}#sk-container-id-1 label.sk-toggleable__label {cursor: pointer;display: block;width: 100%;margin-bottom: 0;padding: 0.3em;box-sizing: border-box;text-align: center;}#sk-container-id-1 label.sk-toggleable__label-arrow:before {content: \"▸\";float: left;margin-right: 0.25em;color: #696969;}#sk-container-id-1 label.sk-toggleable__label-arrow:hover:before {color: black;}#sk-container-id-1 div.sk-estimator:hover label.sk-toggleable__label-arrow:before {color: black;}#sk-container-id-1 div.sk-toggleable__content {max-height: 0;max-width: 0;overflow: hidden;text-align: left;background-color: #f0f8ff;}#sk-container-id-1 div.sk-toggleable__content pre {margin: 0.2em;color: black;border-radius: 0.25em;background-color: #f0f8ff;}#sk-container-id-1 input.sk-toggleable__control:checked~div.sk-toggleable__content {max-height: 200px;max-width: 100%;overflow: auto;}#sk-container-id-1 input.sk-toggleable__control:checked~label.sk-toggleable__label-arrow:before {content: \"▾\";}#sk-container-id-1 div.sk-estimator input.sk-toggleable__control:checked~label.sk-toggleable__label {background-color: #d4ebff;}#sk-container-id-1 div.sk-label input.sk-toggleable__control:checked~label.sk-toggleable__label {background-color: #d4ebff;}#sk-container-id-1 input.sk-hidden--visually {border: 0;clip: rect(1px 1px 1px 1px);clip: rect(1px, 1px, 1px, 1px);height: 1px;margin: -1px;overflow: hidden;padding: 0;position: absolute;width: 1px;}#sk-container-id-1 div.sk-estimator {font-family: monospace;background-color: #f0f8ff;border: 1px dotted black;border-radius: 0.25em;box-sizing: border-box;margin-bottom: 0.5em;}#sk-container-id-1 div.sk-estimator:hover {background-color: #d4ebff;}#sk-container-id-1 div.sk-parallel-item::after {content: \"\";width: 100%;border-bottom: 1px solid gray;flex-grow: 1;}#sk-container-id-1 div.sk-label:hover label.sk-toggleable__label {background-color: #d4ebff;}#sk-container-id-1 div.sk-serial::before {content: \"\";position: absolute;border-left: 1px solid gray;box-sizing: border-box;top: 0;bottom: 0;left: 50%;z-index: 0;}#sk-container-id-1 div.sk-serial {display: flex;flex-direction: column;align-items: center;background-color: white;padding-right: 0.2em;padding-left: 0.2em;position: relative;}#sk-container-id-1 div.sk-item {position: relative;z-index: 1;}#sk-container-id-1 div.sk-parallel {display: flex;align-items: stretch;justify-content: center;background-color: white;position: relative;}#sk-container-id-1 div.sk-item::before, #sk-container-id-1 div.sk-parallel-item::before {content: \"\";position: absolute;border-left: 1px solid gray;box-sizing: border-box;top: 0;bottom: 0;left: 50%;z-index: -1;}#sk-container-id-1 div.sk-parallel-item {display: flex;flex-direction: column;z-index: 1;position: relative;background-color: white;}#sk-container-id-1 div.sk-parallel-item:first-child::after {align-self: flex-end;width: 50%;}#sk-container-id-1 div.sk-parallel-item:last-child::after {align-self: flex-start;width: 50%;}#sk-container-id-1 div.sk-parallel-item:only-child::after {width: 0;}#sk-container-id-1 div.sk-dashed-wrapped {border: 1px dashed gray;margin: 0 0.4em 0.5em 0.4em;box-sizing: border-box;padding-bottom: 0.4em;background-color: white;}#sk-container-id-1 div.sk-label label {font-family: monospace;font-weight: bold;display: inline-block;line-height: 1.2em;}#sk-container-id-1 div.sk-label-container {text-align: center;}#sk-container-id-1 div.sk-container {/* jupyter's `normalize.less` sets `[hidden] { display: none; }` but bootstrap.min.css set `[hidden] { display: none !important; }` so we also need the `!important` here to be able to override the default hidden behavior on the sphinx rendered scikit-learn.org. See: https://github.com/scikit-learn/scikit-learn/issues/21755 */display: inline-block !important;position: relative;}#sk-container-id-1 div.sk-text-repr-fallback {display: none;}</style><div id=\"sk-container-id-1\" class=\"sk-top-container\"><div class=\"sk-text-repr-fallback\"><pre>LinearRegression()</pre><b>In a Jupyter environment, please rerun this cell to show the HTML representation or trust the notebook. <br />On GitHub, the HTML representation is unable to render, please try loading this page with nbviewer.org.</b></div><div class=\"sk-container\" hidden><div class=\"sk-item\"><div class=\"sk-estimator sk-toggleable\"><input class=\"sk-toggleable__control sk-hidden--visually\" id=\"sk-estimator-id-1\" type=\"checkbox\" checked><label for=\"sk-estimator-id-1\" class=\"sk-toggleable__label sk-toggleable__label-arrow\">LinearRegression</label><div class=\"sk-toggleable__content\"><pre>LinearRegression()</pre></div></div></div></div></div>"
      ],
      "text/plain": [
       "LinearRegression()"
      ]
     },
     "execution_count": 12,
     "metadata": {},
     "output_type": "execute_result"
    }
   ],
   "source": [
    "modelo_ls = LinearRegression()\n",
    "modelo_ls.fit(TV_train, Sales_train)"
   ]
  },
  {
   "cell_type": "code",
   "execution_count": 13,
   "metadata": {},
   "outputs": [
    {
     "name": "stdout",
     "output_type": "stream",
     "text": [
      "Valor de a:  [7.03571131]\n",
      "Valor de b;  [[0.04829686]]\n"
     ]
    }
   ],
   "source": [
    "a = modelo_ls.intercept_\n",
    "b = modelo_ls.coef_\n",
    "print(\"Valor de a: \", a)\n",
    "print(\"Valor de b; \", b)"
   ]
  },
  {
   "cell_type": "code",
   "execution_count": 14,
   "metadata": {},
   "outputs": [
    {
     "data": {
      "text/plain": [
       "[<matplotlib.lines.Line2D at 0x144264e50>]"
      ]
     },
     "execution_count": 14,
     "metadata": {},
     "output_type": "execute_result"
    },
    {
     "data": {
      "image/png": "[encoded data removed]",
      "text/plain": [
       "<Figure size 640x480 with 1 Axes>"
      ]
     },
     "metadata": {},
     "output_type": "display_data"
    }
   ],
   "source": [
    "linea_tendencia = modelo_ls.predict(TV_train)\n",
    "plt.plot(TV_train, Sales_train, 'o', color= 'blue')\n",
    "plt.plot(TV_train, linea_tendencia, color=\"red\")"
   ]
  },
  {
   "cell_type": "code",
   "execution_count": 15,
   "metadata": {},
   "outputs": [
    {
     "data": {
      "text/plain": [
       "array([[13.69584841],\n",
       "       [14.9805449 ],\n",
       "       [ 7.93886261],\n",
       "       [17.68516911],\n",
       "       [12.33870662],\n",
       "       [16.10586176],\n",
       "       [15.03367145],\n",
       "       [19.15339367],\n",
       "       [ 7.86641732]])"
      ]
     },
     "execution_count": 15,
     "metadata": {},
     "output_type": "execute_result"
    }
   ],
   "source": [
    "TV_train[1:10]\n",
    "predicciones = modelo_ls.predict(TV_test)\n",
    "predicciones[1:10]"
   ]
  },
  {
   "cell_type": "code",
   "execution_count": 16,
   "metadata": {},
   "outputs": [
    {
     "data": {
      "text/html": [
       "<div>\n",
       "<style scoped>\n",
       "    .dataframe tbody tr th:only-of-type {\n",
       "        vertical-align: middle;\n",
       "    }\n",
       "\n",
       "    .dataframe tbody tr th {\n",
       "        vertical-align: top;\n",
       "    }\n",
       "\n",
       "    .dataframe thead th {\n",
       "        text-align: right;\n",
       "    }\n",
       "</style>\n",
       "<table border=\"1\" class=\"dataframe\">\n",
       "  <thead>\n",
       "    <tr style=\"text-align: right;\">\n",
       "      <th></th>\n",
       "      <th>TV</th>\n",
       "      <th>Real</th>\n",
       "      <th>Predicho</th>\n",
       "    </tr>\n",
       "  </thead>\n",
       "  <tbody>\n",
       "    <tr>\n",
       "      <th>0</th>\n",
       "      <td>80.2</td>\n",
       "      <td>8.8</td>\n",
       "      <td>10.909120</td>\n",
       "    </tr>\n",
       "    <tr>\n",
       "      <th>1</th>\n",
       "      <td>137.9</td>\n",
       "      <td>19.2</td>\n",
       "      <td>13.695848</td>\n",
       "    </tr>\n",
       "    <tr>\n",
       "      <th>2</th>\n",
       "      <td>164.5</td>\n",
       "      <td>14.5</td>\n",
       "      <td>14.980545</td>\n",
       "    </tr>\n",
       "    <tr>\n",
       "      <th>3</th>\n",
       "      <td>18.7</td>\n",
       "      <td>6.7</td>\n",
       "      <td>7.938863</td>\n",
       "    </tr>\n",
       "    <tr>\n",
       "      <th>4</th>\n",
       "      <td>220.5</td>\n",
       "      <td>20.1</td>\n",
       "      <td>17.685169</td>\n",
       "    </tr>\n",
       "    <tr>\n",
       "      <th>5</th>\n",
       "      <td>109.8</td>\n",
       "      <td>16.7</td>\n",
       "      <td>12.338707</td>\n",
       "    </tr>\n",
       "    <tr>\n",
       "      <th>6</th>\n",
       "      <td>187.8</td>\n",
       "      <td>15.6</td>\n",
       "      <td>16.105862</td>\n",
       "    </tr>\n",
       "    <tr>\n",
       "      <th>7</th>\n",
       "      <td>165.6</td>\n",
       "      <td>12.6</td>\n",
       "      <td>15.033671</td>\n",
       "    </tr>\n",
       "    <tr>\n",
       "      <th>8</th>\n",
       "      <td>250.9</td>\n",
       "      <td>22.2</td>\n",
       "      <td>19.153394</td>\n",
       "    </tr>\n",
       "    <tr>\n",
       "      <th>9</th>\n",
       "      <td>17.2</td>\n",
       "      <td>5.9</td>\n",
       "      <td>7.866417</td>\n",
       "    </tr>\n",
       "    <tr>\n",
       "      <th>10</th>\n",
       "      <td>266.9</td>\n",
       "      <td>25.4</td>\n",
       "      <td>19.926143</td>\n",
       "    </tr>\n",
       "    <tr>\n",
       "      <th>11</th>\n",
       "      <td>151.5</td>\n",
       "      <td>18.5</td>\n",
       "      <td>14.352686</td>\n",
       "    </tr>\n",
       "    <tr>\n",
       "      <th>12</th>\n",
       "      <td>293.6</td>\n",
       "      <td>20.7</td>\n",
       "      <td>21.215670</td>\n",
       "    </tr>\n",
       "    <tr>\n",
       "      <th>13</th>\n",
       "      <td>182.6</td>\n",
       "      <td>21.2</td>\n",
       "      <td>15.854718</td>\n",
       "    </tr>\n",
       "    <tr>\n",
       "      <th>14</th>\n",
       "      <td>238.2</td>\n",
       "      <td>20.7</td>\n",
       "      <td>18.540024</td>\n",
       "    </tr>\n",
       "    <tr>\n",
       "      <th>15</th>\n",
       "      <td>239.8</td>\n",
       "      <td>12.3</td>\n",
       "      <td>18.617299</td>\n",
       "    </tr>\n",
       "    <tr>\n",
       "      <th>16</th>\n",
       "      <td>39.5</td>\n",
       "      <td>10.8</td>\n",
       "      <td>8.943437</td>\n",
       "    </tr>\n",
       "    <tr>\n",
       "      <th>17</th>\n",
       "      <td>197.6</td>\n",
       "      <td>11.7</td>\n",
       "      <td>16.579171</td>\n",
       "    </tr>\n",
       "    <tr>\n",
       "      <th>18</th>\n",
       "      <td>48.3</td>\n",
       "      <td>11.6</td>\n",
       "      <td>9.368450</td>\n",
       "    </tr>\n",
       "    <tr>\n",
       "      <th>19</th>\n",
       "      <td>210.8</td>\n",
       "      <td>23.8</td>\n",
       "      <td>17.216690</td>\n",
       "    </tr>\n",
       "    <tr>\n",
       "      <th>20</th>\n",
       "      <td>125.7</td>\n",
       "      <td>15.9</td>\n",
       "      <td>13.106627</td>\n",
       "    </tr>\n",
       "    <tr>\n",
       "      <th>21</th>\n",
       "      <td>75.3</td>\n",
       "      <td>11.3</td>\n",
       "      <td>10.672465</td>\n",
       "    </tr>\n",
       "    <tr>\n",
       "      <th>22</th>\n",
       "      <td>276.7</td>\n",
       "      <td>11.8</td>\n",
       "      <td>20.399453</td>\n",
       "    </tr>\n",
       "    <tr>\n",
       "      <th>23</th>\n",
       "      <td>197.6</td>\n",
       "      <td>16.6</td>\n",
       "      <td>16.579171</td>\n",
       "    </tr>\n",
       "    <tr>\n",
       "      <th>24</th>\n",
       "      <td>168.4</td>\n",
       "      <td>11.7</td>\n",
       "      <td>15.168903</td>\n",
       "    </tr>\n",
       "    <tr>\n",
       "      <th>25</th>\n",
       "      <td>292.9</td>\n",
       "      <td>21.4</td>\n",
       "      <td>21.181862</td>\n",
       "    </tr>\n",
       "    <tr>\n",
       "      <th>26</th>\n",
       "      <td>187.9</td>\n",
       "      <td>14.7</td>\n",
       "      <td>16.110691</td>\n",
       "    </tr>\n",
       "    <tr>\n",
       "      <th>27</th>\n",
       "      <td>199.8</td>\n",
       "      <td>11.4</td>\n",
       "      <td>16.685424</td>\n",
       "    </tr>\n",
       "    <tr>\n",
       "      <th>28</th>\n",
       "      <td>175.7</td>\n",
       "      <td>14.1</td>\n",
       "      <td>15.521470</td>\n",
       "    </tr>\n",
       "    <tr>\n",
       "      <th>29</th>\n",
       "      <td>85.7</td>\n",
       "      <td>13.3</td>\n",
       "      <td>11.174752</td>\n",
       "    </tr>\n",
       "    <tr>\n",
       "      <th>30</th>\n",
       "      <td>88.3</td>\n",
       "      <td>12.9</td>\n",
       "      <td>11.300324</td>\n",
       "    </tr>\n",
       "    <tr>\n",
       "      <th>31</th>\n",
       "      <td>28.6</td>\n",
       "      <td>7.3</td>\n",
       "      <td>8.417002</td>\n",
       "    </tr>\n",
       "    <tr>\n",
       "      <th>32</th>\n",
       "      <td>222.4</td>\n",
       "      <td>11.5</td>\n",
       "      <td>17.776933</td>\n",
       "    </tr>\n",
       "    <tr>\n",
       "      <th>33</th>\n",
       "      <td>227.2</td>\n",
       "      <td>14.8</td>\n",
       "      <td>18.008758</td>\n",
       "    </tr>\n",
       "    <tr>\n",
       "      <th>34</th>\n",
       "      <td>210.7</td>\n",
       "      <td>18.4</td>\n",
       "      <td>17.211860</td>\n",
       "    </tr>\n",
       "    <tr>\n",
       "      <th>35</th>\n",
       "      <td>95.7</td>\n",
       "      <td>9.5</td>\n",
       "      <td>11.657721</td>\n",
       "    </tr>\n",
       "    <tr>\n",
       "      <th>36</th>\n",
       "      <td>66.9</td>\n",
       "      <td>9.7</td>\n",
       "      <td>10.266771</td>\n",
       "    </tr>\n",
       "    <tr>\n",
       "      <th>37</th>\n",
       "      <td>112.9</td>\n",
       "      <td>11.9</td>\n",
       "      <td>12.488427</td>\n",
       "    </tr>\n",
       "    <tr>\n",
       "      <th>38</th>\n",
       "      <td>240.1</td>\n",
       "      <td>13.2</td>\n",
       "      <td>18.631788</td>\n",
       "    </tr>\n",
       "    <tr>\n",
       "      <th>39</th>\n",
       "      <td>18.8</td>\n",
       "      <td>7.0</td>\n",
       "      <td>7.943692</td>\n",
       "    </tr>\n",
       "    <tr>\n",
       "      <th>40</th>\n",
       "      <td>7.3</td>\n",
       "      <td>5.5</td>\n",
       "      <td>7.388278</td>\n",
       "    </tr>\n",
       "    <tr>\n",
       "      <th>41</th>\n",
       "      <td>53.5</td>\n",
       "      <td>8.1</td>\n",
       "      <td>9.619593</td>\n",
       "    </tr>\n",
       "    <tr>\n",
       "      <th>42</th>\n",
       "      <td>19.4</td>\n",
       "      <td>6.6</td>\n",
       "      <td>7.972670</td>\n",
       "    </tr>\n",
       "    <tr>\n",
       "      <th>43</th>\n",
       "      <td>68.4</td>\n",
       "      <td>13.6</td>\n",
       "      <td>10.339217</td>\n",
       "    </tr>\n",
       "    <tr>\n",
       "      <th>44</th>\n",
       "      <td>241.7</td>\n",
       "      <td>21.8</td>\n",
       "      <td>18.709063</td>\n",
       "    </tr>\n",
       "    <tr>\n",
       "      <th>45</th>\n",
       "      <td>8.6</td>\n",
       "      <td>4.8</td>\n",
       "      <td>7.451064</td>\n",
       "    </tr>\n",
       "    <tr>\n",
       "      <th>46</th>\n",
       "      <td>100.4</td>\n",
       "      <td>10.7</td>\n",
       "      <td>11.884716</td>\n",
       "    </tr>\n",
       "    <tr>\n",
       "      <th>47</th>\n",
       "      <td>175.1</td>\n",
       "      <td>14.9</td>\n",
       "      <td>15.492492</td>\n",
       "    </tr>\n",
       "    <tr>\n",
       "      <th>48</th>\n",
       "      <td>120.2</td>\n",
       "      <td>13.2</td>\n",
       "      <td>12.840994</td>\n",
       "    </tr>\n",
       "    <tr>\n",
       "      <th>49</th>\n",
       "      <td>224.0</td>\n",
       "      <td>11.6</td>\n",
       "      <td>17.854208</td>\n",
       "    </tr>\n",
       "    <tr>\n",
       "      <th>50</th>\n",
       "      <td>25.1</td>\n",
       "      <td>8.5</td>\n",
       "      <td>8.247963</td>\n",
       "    </tr>\n",
       "    <tr>\n",
       "      <th>51</th>\n",
       "      <td>90.4</td>\n",
       "      <td>8.7</td>\n",
       "      <td>11.401748</td>\n",
       "    </tr>\n",
       "    <tr>\n",
       "      <th>52</th>\n",
       "      <td>67.8</td>\n",
       "      <td>12.5</td>\n",
       "      <td>10.310238</td>\n",
       "    </tr>\n",
       "    <tr>\n",
       "      <th>53</th>\n",
       "      <td>239.9</td>\n",
       "      <td>23.2</td>\n",
       "      <td>18.622128</td>\n",
       "    </tr>\n",
       "    <tr>\n",
       "      <th>54</th>\n",
       "      <td>265.2</td>\n",
       "      <td>12.7</td>\n",
       "      <td>19.844039</td>\n",
       "    </tr>\n",
       "    <tr>\n",
       "      <th>55</th>\n",
       "      <td>69.2</td>\n",
       "      <td>11.3</td>\n",
       "      <td>10.377854</td>\n",
       "    </tr>\n",
       "    <tr>\n",
       "      <th>56</th>\n",
       "      <td>89.7</td>\n",
       "      <td>10.6</td>\n",
       "      <td>11.367940</td>\n",
       "    </tr>\n",
       "    <tr>\n",
       "      <th>57</th>\n",
       "      <td>4.1</td>\n",
       "      <td>3.2</td>\n",
       "      <td>7.233728</td>\n",
       "    </tr>\n",
       "    <tr>\n",
       "      <th>58</th>\n",
       "      <td>11.7</td>\n",
       "      <td>7.3</td>\n",
       "      <td>7.600785</td>\n",
       "    </tr>\n",
       "    <tr>\n",
       "      <th>59</th>\n",
       "      <td>102.7</td>\n",
       "      <td>14.0</td>\n",
       "      <td>11.995799</td>\n",
       "    </tr>\n",
       "  </tbody>\n",
       "</table>\n",
       "</div>"
      ],
      "text/plain": [
       "       TV  Real   Predicho\n",
       "0    80.2   8.8  10.909120\n",
       "1   137.9  19.2  13.695848\n",
       "2   164.5  14.5  14.980545\n",
       "3    18.7   6.7   7.938863\n",
       "4   220.5  20.1  17.685169\n",
       "5   109.8  16.7  12.338707\n",
       "6   187.8  15.6  16.105862\n",
       "7   165.6  12.6  15.033671\n",
       "8   250.9  22.2  19.153394\n",
       "9    17.2   5.9   7.866417\n",
       "10  266.9  25.4  19.926143\n",
       "11  151.5  18.5  14.352686\n",
       "12  293.6  20.7  21.215670\n",
       "13  182.6  21.2  15.854718\n",
       "14  238.2  20.7  18.540024\n",
       "15  239.8  12.3  18.617299\n",
       "16   39.5  10.8   8.943437\n",
       "17  197.6  11.7  16.579171\n",
       "18   48.3  11.6   9.368450\n",
       "19  210.8  23.8  17.216690\n",
       "20  125.7  15.9  13.106627\n",
       "21   75.3  11.3  10.672465\n",
       "22  276.7  11.8  20.399453\n",
       "23  197.6  16.6  16.579171\n",
       "24  168.4  11.7  15.168903\n",
       "25  292.9  21.4  21.181862\n",
       "26  187.9  14.7  16.110691\n",
       "27  199.8  11.4  16.685424\n",
       "28  175.7  14.1  15.521470\n",
       "29   85.7  13.3  11.174752\n",
       "30   88.3  12.9  11.300324\n",
       "31   28.6   7.3   8.417002\n",
       "32  222.4  11.5  17.776933\n",
       "33  227.2  14.8  18.008758\n",
       "34  210.7  18.4  17.211860\n",
       "35   95.7   9.5  11.657721\n",
       "36   66.9   9.7  10.266771\n",
       "37  112.9  11.9  12.488427\n",
       "38  240.1  13.2  18.631788\n",
       "39   18.8   7.0   7.943692\n",
       "40    7.3   5.5   7.388278\n",
       "41   53.5   8.1   9.619593\n",
       "42   19.4   6.6   7.972670\n",
       "43   68.4  13.6  10.339217\n",
       "44  241.7  21.8  18.709063\n",
       "45    8.6   4.8   7.451064\n",
       "46  100.4  10.7  11.884716\n",
       "47  175.1  14.9  15.492492\n",
       "48  120.2  13.2  12.840994\n",
       "49  224.0  11.6  17.854208\n",
       "50   25.1   8.5   8.247963\n",
       "51   90.4   8.7  11.401748\n",
       "52   67.8  12.5  10.310238\n",
       "53  239.9  23.2  18.622128\n",
       "54  265.2  12.7  19.844039\n",
       "55   69.2  11.3  10.377854\n",
       "56   89.7  10.6  11.367940\n",
       "57    4.1   3.2   7.233728\n",
       "58   11.7   7.3   7.600785\n",
       "59  102.7  14.0  11.995799"
      ]
     },
     "execution_count": 16,
     "metadata": {},
     "output_type": "execute_result"
    }
   ],
   "source": [
    "diccionario = {'TV': TV_test.flatten().tolist(),\n",
    "                'Real' : Sales_test.flatten().tolist(), \n",
    "               'Predicho' : predicciones.flatten().tolist()}\n",
    "diccionario\n",
    "comparaciones = pd.DataFrame(diccionario)\n",
    "comparaciones"
   ]
  },
  {
   "cell_type": "code",
   "execution_count": 17,
   "metadata": {},
   "outputs": [
    {
     "name": "stdout",
     "output_type": "stream",
     "text": [
      "R Square : 0.5785\n",
      "R Square : 0.5704892150134101\n"
     ]
    }
   ],
   "source": [
    "r = np.corrcoef(comparaciones['Real'], comparaciones['Predicho'])\n",
    "r = r ** 2\n",
    "r = r.reshape(-1,2)\n",
    "r = r[0, 1]\n",
    "print('R Square :', np.round(r, 4) )\n",
    "# con r2_score([2, 5, 9], [3, 5, 11])\n",
    "print('R Square :', r2_score(comparaciones['Real'], comparaciones['Predicho'] ))"
   ]
  },
  {
   "cell_type": "code",
   "execution_count": 18,
   "metadata": {},
   "outputs": [
    {
     "name": "stdout",
     "output_type": "stream",
     "text": [
      "Mean Squared Error: MSE 11.335071183977375\n",
      "Root Mean Squared Error RMSE: 3.3667597455086358\n"
     ]
    }
   ],
   "source": [
    "print('Mean Squared Error: MSE', metrics.mean_squared_error(Sales_test, predicciones))\n",
    "print('Root Mean Squared Error RMSE:', np.sqrt(metrics.mean_squared_error(Sales_test, predicciones)))\n"
   ]
  },
  {
   "cell_type": "code",
   "execution_count": 19,
   "metadata": {},
   "outputs": [
    {
     "data": {
      "text/plain": [
       "[3.3667597455086358]"
      ]
     },
     "execution_count": 19,
     "metadata": {},
     "output_type": "execute_result"
    }
   ],
   "source": [
    "rmse = []\n",
    "rmse.append(np.sqrt(metrics.mean_squared_error(Sales_test, predicciones)))\n",
    "rmse"
   ]
  },
  {
   "cell_type": "markdown",
   "metadata": {},
   "source": [
    "## Modelo de regresión polinomial de segundo nivel"
   ]
  },
  {
   "cell_type": "code",
   "execution_count": 20,
   "metadata": {},
   "outputs": [
    {
     "data": {
      "text/html": [
       "<style>#sk-container-id-2 {color: black;background-color: white;}#sk-container-id-2 pre{padding: 0;}#sk-container-id-2 div.sk-toggleable {background-color: white;}#sk-container-id-2 label.sk-toggleable__label {cursor: pointer;display: block;width: 100%;margin-bottom: 0;padding: 0.3em;box-sizing: border-box;text-align: center;}#sk-container-id-2 label.sk-toggleable__label-arrow:before {content: \"▸\";float: left;margin-right: 0.25em;color: #696969;}#sk-container-id-2 label.sk-toggleable__label-arrow:hover:before {color: black;}#sk-container-id-2 div.sk-estimator:hover label.sk-toggleable__label-arrow:before {color: black;}#sk-container-id-2 div.sk-toggleable__content {max-height: 0;max-width: 0;overflow: hidden;text-align: left;background-color: #f0f8ff;}#sk-container-id-2 div.sk-toggleable__content pre {margin: 0.2em;color: black;border-radius: 0.25em;background-color: #f0f8ff;}#sk-container-id-2 input.sk-toggleable__control:checked~div.sk-toggleable__content {max-height: 200px;max-width: 100%;overflow: auto;}#sk-container-id-2 input.sk-toggleable__control:checked~label.sk-toggleable__label-arrow:before {content: \"▾\";}#sk-container-id-2 div.sk-estimator input.sk-toggleable__control:checked~label.sk-toggleable__label {background-color: #d4ebff;}#sk-container-id-2 div.sk-label input.sk-toggleable__control:checked~label.sk-toggleable__label {background-color: #d4ebff;}#sk-container-id-2 input.sk-hidden--visually {border: 0;clip: rect(1px 1px 1px 1px);clip: rect(1px, 1px, 1px, 1px);height: 1px;margin: -1px;overflow: hidden;padding: 0;position: absolute;width: 1px;}#sk-container-id-2 div.sk-estimator {font-family: monospace;background-color: #f0f8ff;border: 1px dotted black;border-radius: 0.25em;box-sizing: border-box;margin-bottom: 0.5em;}#sk-container-id-2 div.sk-estimator:hover {background-color: #d4ebff;}#sk-container-id-2 div.sk-parallel-item::after {content: \"\";width: 100%;border-bottom: 1px solid gray;flex-grow: 1;}#sk-container-id-2 div.sk-label:hover label.sk-toggleable__label {background-color: #d4ebff;}#sk-container-id-2 div.sk-serial::before {content: \"\";position: absolute;border-left: 1px solid gray;box-sizing: border-box;top: 0;bottom: 0;left: 50%;z-index: 0;}#sk-container-id-2 div.sk-serial {display: flex;flex-direction: column;align-items: center;background-color: white;padding-right: 0.2em;padding-left: 0.2em;position: relative;}#sk-container-id-2 div.sk-item {position: relative;z-index: 1;}#sk-container-id-2 div.sk-parallel {display: flex;align-items: stretch;justify-content: center;background-color: white;position: relative;}#sk-container-id-2 div.sk-item::before, #sk-container-id-2 div.sk-parallel-item::before {content: \"\";position: absolute;border-left: 1px solid gray;box-sizing: border-box;top: 0;bottom: 0;left: 50%;z-index: -1;}#sk-container-id-2 div.sk-parallel-item {display: flex;flex-direction: column;z-index: 1;position: relative;background-color: white;}#sk-container-id-2 div.sk-parallel-item:first-child::after {align-self: flex-end;width: 50%;}#sk-container-id-2 div.sk-parallel-item:last-child::after {align-self: flex-start;width: 50%;}#sk-container-id-2 div.sk-parallel-item:only-child::after {width: 0;}#sk-container-id-2 div.sk-dashed-wrapped {border: 1px dashed gray;margin: 0 0.4em 0.5em 0.4em;box-sizing: border-box;padding-bottom: 0.4em;background-color: white;}#sk-container-id-2 div.sk-label label {font-family: monospace;font-weight: bold;display: inline-block;line-height: 1.2em;}#sk-container-id-2 div.sk-label-container {text-align: center;}#sk-container-id-2 div.sk-container {/* jupyter's `normalize.less` sets `[hidden] { display: none; }` but bootstrap.min.css set `[hidden] { display: none !important; }` so we also need the `!important` here to be able to override the default hidden behavior on the sphinx rendered scikit-learn.org. See: https://github.com/scikit-learn/scikit-learn/issues/21755 */display: inline-block !important;position: relative;}#sk-container-id-2 div.sk-text-repr-fallback {display: none;}</style><div id=\"sk-container-id-2\" class=\"sk-top-container\"><div class=\"sk-text-repr-fallback\"><pre>LinearRegression()</pre><b>In a Jupyter environment, please rerun this cell to show the HTML representation or trust the notebook. <br />On GitHub, the HTML representation is unable to render, please try loading this page with nbviewer.org.</b></div><div class=\"sk-container\" hidden><div class=\"sk-item\"><div class=\"sk-estimator sk-toggleable\"><input class=\"sk-toggleable__control sk-hidden--visually\" id=\"sk-estimator-id-2\" type=\"checkbox\" checked><label for=\"sk-estimator-id-2\" class=\"sk-toggleable__label sk-toggleable__label-arrow\">LinearRegression</label><div class=\"sk-toggleable__content\"><pre>LinearRegression()</pre></div></div></div></div></div>"
      ],
      "text/plain": [
       "LinearRegression()"
      ]
     },
     "execution_count": 20,
     "metadata": {},
     "output_type": "execute_result"
    }
   ],
   "source": [
    "from sklearn.preprocessing import PolynomialFeatures\n",
    "poly_reg =  PolynomialFeatures(degree = 2)\n",
    "TV_poly = poly_reg.fit_transform(TV_train)\n",
    "modelo_poly2 = LinearRegression()\n",
    "modelo_poly2.fit(TV_poly, Sales_train)"
   ]
  },
  {
   "cell_type": "code",
   "execution_count": 21,
   "metadata": {},
   "outputs": [
    {
     "data": {
      "image/png": "[encoded data removed]",
      "text/plain": [
       "<Figure size 640x480 with 1 Axes>"
      ]
     },
     "metadata": {},
     "output_type": "display_data"
    }
   ],
   "source": [
    "curva_tendencia = modelo_poly2.predict(poly_reg.fit_transform(TV_train))\n",
    "plt.scatter(TV_train, Sales_train, color = 'b', )\n",
    "plt.scatter(TV_train, curva_tendencia, color='r', linestyle = 'solid')\n",
    "plt.show()"
   ]
  },
  {
   "cell_type": "code",
   "execution_count": 22,
   "metadata": {},
   "outputs": [
    {
     "data": {
      "text/plain": [
       "array([[11.05406129],\n",
       "       [14.04623562],\n",
       "       [15.3167336 ],\n",
       "       [ 7.50877973],\n",
       "       [17.76680584],\n",
       "       [12.62943921],\n",
       "       [16.37314379],\n",
       "       [15.36779309],\n",
       "       [18.96927591],\n",
       "       [ 7.41771968],\n",
       "       [19.56609733],\n",
       "       [14.70440052],\n",
       "       [20.50667016],\n",
       "       [16.14194973],\n",
       "       [18.47784602],\n",
       "       [18.54062103],\n",
       "       [ 8.7489508 ],\n",
       "       [16.80171605],\n",
       "       [ 9.26098733],\n",
       "       [17.36423111],\n",
       "       [13.44053544],\n",
       "       [10.7850618 ],\n",
       "       [19.91937029],\n",
       "       [16.80171605],\n",
       "       [15.49723235],\n",
       "       [20.4828949 ],\n",
       "       [16.37756409],\n",
       "       [16.89664392],\n",
       "       [15.83111798],\n",
       "       [11.35322134],\n",
       "       [11.4936196 ],\n",
       "       [ 8.10429453],\n",
       "       [17.84459023],\n",
       "       [18.03953617],\n",
       "       [17.36003326],\n",
       "       [11.88962054],\n",
       "       [10.3184937 ],\n",
       "       [12.78950468],\n",
       "       [18.55236366],\n",
       "       [ 7.51484263],\n",
       "       [ 6.81124191],\n",
       "       [ 9.56001855],\n",
       "       [ 7.55119962],\n",
       "       [10.40231212],\n",
       "       [18.61484337],\n",
       "       [ 6.8914234 ],\n",
       "       [12.13837254],\n",
       "       [15.80387057],\n",
       "       [13.16274571],\n",
       "       [17.90982088],\n",
       "       [ 7.89484694],\n",
       "       [11.60653882],\n",
       "       [10.36881098],\n",
       "       [18.54453621],\n",
       "       [19.50386577],\n",
       "       [10.44692591],\n",
       "       [11.56894668],\n",
       "       [ 6.61317268],\n",
       "       [ 7.08196295],\n",
       "       [12.25932028]])"
      ]
     },
     "execution_count": 22,
     "metadata": {},
     "output_type": "execute_result"
    }
   ],
   "source": [
    "predicciones = modelo_poly2.predict(poly_reg.fit_transform(TV_test))\n",
    "predicciones"
   ]
  },
  {
   "cell_type": "code",
   "execution_count": 23,
   "metadata": {},
   "outputs": [
    {
     "data": {
      "text/html": [
       "<div>\n",
       "<style scoped>\n",
       "    .dataframe tbody tr th:only-of-type {\n",
       "        vertical-align: middle;\n",
       "    }\n",
       "\n",
       "    .dataframe tbody tr th {\n",
       "        vertical-align: top;\n",
       "    }\n",
       "\n",
       "    .dataframe thead th {\n",
       "        text-align: right;\n",
       "    }\n",
       "</style>\n",
       "<table border=\"1\" class=\"dataframe\">\n",
       "  <thead>\n",
       "    <tr style=\"text-align: right;\">\n",
       "      <th></th>\n",
       "      <th>TV</th>\n",
       "      <th>Real</th>\n",
       "      <th>Predicho</th>\n",
       "    </tr>\n",
       "  </thead>\n",
       "  <tbody>\n",
       "    <tr>\n",
       "      <th>0</th>\n",
       "      <td>80.2</td>\n",
       "      <td>8.8</td>\n",
       "      <td>11.054061</td>\n",
       "    </tr>\n",
       "    <tr>\n",
       "      <th>1</th>\n",
       "      <td>137.9</td>\n",
       "      <td>19.2</td>\n",
       "      <td>14.046236</td>\n",
       "    </tr>\n",
       "    <tr>\n",
       "      <th>2</th>\n",
       "      <td>164.5</td>\n",
       "      <td>14.5</td>\n",
       "      <td>15.316734</td>\n",
       "    </tr>\n",
       "    <tr>\n",
       "      <th>3</th>\n",
       "      <td>18.7</td>\n",
       "      <td>6.7</td>\n",
       "      <td>7.508780</td>\n",
       "    </tr>\n",
       "    <tr>\n",
       "      <th>4</th>\n",
       "      <td>220.5</td>\n",
       "      <td>20.1</td>\n",
       "      <td>17.766806</td>\n",
       "    </tr>\n",
       "    <tr>\n",
       "      <th>5</th>\n",
       "      <td>109.8</td>\n",
       "      <td>16.7</td>\n",
       "      <td>12.629439</td>\n",
       "    </tr>\n",
       "    <tr>\n",
       "      <th>6</th>\n",
       "      <td>187.8</td>\n",
       "      <td>15.6</td>\n",
       "      <td>16.373144</td>\n",
       "    </tr>\n",
       "    <tr>\n",
       "      <th>7</th>\n",
       "      <td>165.6</td>\n",
       "      <td>12.6</td>\n",
       "      <td>15.367793</td>\n",
       "    </tr>\n",
       "    <tr>\n",
       "      <th>8</th>\n",
       "      <td>250.9</td>\n",
       "      <td>22.2</td>\n",
       "      <td>18.969276</td>\n",
       "    </tr>\n",
       "    <tr>\n",
       "      <th>9</th>\n",
       "      <td>17.2</td>\n",
       "      <td>5.9</td>\n",
       "      <td>7.417720</td>\n",
       "    </tr>\n",
       "  </tbody>\n",
       "</table>\n",
       "</div>"
      ],
      "text/plain": [
       "      TV  Real   Predicho\n",
       "0   80.2   8.8  11.054061\n",
       "1  137.9  19.2  14.046236\n",
       "2  164.5  14.5  15.316734\n",
       "3   18.7   6.7   7.508780\n",
       "4  220.5  20.1  17.766806\n",
       "5  109.8  16.7  12.629439\n",
       "6  187.8  15.6  16.373144\n",
       "7  165.6  12.6  15.367793\n",
       "8  250.9  22.2  18.969276\n",
       "9   17.2   5.9   7.417720"
      ]
     },
     "execution_count": 23,
     "metadata": {},
     "output_type": "execute_result"
    }
   ],
   "source": [
    "diccionario = {'TV': TV_test.flatten().tolist(),\n",
    "                'Real' : Sales_test.flatten().tolist(), \n",
    "               'Predicho' : predicciones.flatten().tolist()}\n",
    "diccionario\n",
    "comparaciones = pd.DataFrame(diccionario)\n",
    "comparaciones.head(10)"
   ]
  },
  {
   "cell_type": "code",
   "execution_count": 24,
   "metadata": {},
   "outputs": [
    {
     "name": "stdout",
     "output_type": "stream",
     "text": [
      "R Square : 0.592\n",
      "R Square : 0.5840901478872074\n"
     ]
    }
   ],
   "source": [
    "r = np.corrcoef(comparaciones['Real'], comparaciones['Predicho'])\n",
    "r = r ** 2\n",
    "r = r.reshape(-1,2)\n",
    "r = r[0, 1]\n",
    "print('R Square :', np.round(r, 4) )\n",
    "# con r2_score([2, 5, 9], [3, 5, 11])\n",
    "print('R Square :', r2_score(comparaciones['Real'], comparaciones['Predicho'] ))"
   ]
  },
  {
   "cell_type": "code",
   "execution_count": 25,
   "metadata": {},
   "outputs": [
    {
     "name": "stdout",
     "output_type": "stream",
     "text": [
      "Mean Squared Error: MSE 10.97613364927076\n",
      "Root Mean Squared Error RMSE: 3.3130248488761387\n"
     ]
    }
   ],
   "source": [
    "print('Mean Squared Error: MSE', metrics.mean_squared_error(Sales_test, predicciones))\n",
    "print('Root Mean Squared Error RMSE:', np.sqrt(metrics.mean_squared_error(Sales_test, predicciones)))"
   ]
  },
  {
   "cell_type": "code",
   "execution_count": 26,
   "metadata": {},
   "outputs": [
    {
     "data": {
      "text/plain": [
       "[3.3667597455086358, 3.3130248488761387]"
      ]
     },
     "execution_count": 26,
     "metadata": {},
     "output_type": "execute_result"
    }
   ],
   "source": [
    "rmse.append(np.sqrt(metrics.mean_squared_error(Sales_test, predicciones)))\n",
    "rmse"
   ]
  },
  {
   "cell_type": "markdown",
   "metadata": {},
   "source": [
    "## Modelo de regresión polinomial de quinto nivel\n"
   ]
  },
  {
   "cell_type": "code",
   "execution_count": 27,
   "metadata": {},
   "outputs": [
    {
     "data": {
      "text/html": [
       "<style>#sk-container-id-3 {color: black;background-color: white;}#sk-container-id-3 pre{padding: 0;}#sk-container-id-3 div.sk-toggleable {background-color: white;}#sk-container-id-3 label.sk-toggleable__label {cursor: pointer;display: block;width: 100%;margin-bottom: 0;padding: 0.3em;box-sizing: border-box;text-align: center;}#sk-container-id-3 label.sk-toggleable__label-arrow:before {content: \"▸\";float: left;margin-right: 0.25em;color: #696969;}#sk-container-id-3 label.sk-toggleable__label-arrow:hover:before {color: black;}#sk-container-id-3 div.sk-estimator:hover label.sk-toggleable__label-arrow:before {color: black;}#sk-container-id-3 div.sk-toggleable__content {max-height: 0;max-width: 0;overflow: hidden;text-align: left;background-color: #f0f8ff;}#sk-container-id-3 div.sk-toggleable__content pre {margin: 0.2em;color: black;border-radius: 0.25em;background-color: #f0f8ff;}#sk-container-id-3 input.sk-toggleable__control:checked~div.sk-toggleable__content {max-height: 200px;max-width: 100%;overflow: auto;}#sk-container-id-3 input.sk-toggleable__control:checked~label.sk-toggleable__label-arrow:before {content: \"▾\";}#sk-container-id-3 div.sk-estimator input.sk-toggleable__control:checked~label.sk-toggleable__label {background-color: #d4ebff;}#sk-container-id-3 div.sk-label input.sk-toggleable__control:checked~label.sk-toggleable__label {background-color: #d4ebff;}#sk-container-id-3 input.sk-hidden--visually {border: 0;clip: rect(1px 1px 1px 1px);clip: rect(1px, 1px, 1px, 1px);height: 1px;margin: -1px;overflow: hidden;padding: 0;position: absolute;width: 1px;}#sk-container-id-3 div.sk-estimator {font-family: monospace;background-color: #f0f8ff;border: 1px dotted black;border-radius: 0.25em;box-sizing: border-box;margin-bottom: 0.5em;}#sk-container-id-3 div.sk-estimator:hover {background-color: #d4ebff;}#sk-container-id-3 div.sk-parallel-item::after {content: \"\";width: 100%;border-bottom: 1px solid gray;flex-grow: 1;}#sk-container-id-3 div.sk-label:hover label.sk-toggleable__label {background-color: #d4ebff;}#sk-container-id-3 div.sk-serial::before {content: \"\";position: absolute;border-left: 1px solid gray;box-sizing: border-box;top: 0;bottom: 0;left: 50%;z-index: 0;}#sk-container-id-3 div.sk-serial {display: flex;flex-direction: column;align-items: center;background-color: white;padding-right: 0.2em;padding-left: 0.2em;position: relative;}#sk-container-id-3 div.sk-item {position: relative;z-index: 1;}#sk-container-id-3 div.sk-parallel {display: flex;align-items: stretch;justify-content: center;background-color: white;position: relative;}#sk-container-id-3 div.sk-item::before, #sk-container-id-3 div.sk-parallel-item::before {content: \"\";position: absolute;border-left: 1px solid gray;box-sizing: border-box;top: 0;bottom: 0;left: 50%;z-index: -1;}#sk-container-id-3 div.sk-parallel-item {display: flex;flex-direction: column;z-index: 1;position: relative;background-color: white;}#sk-container-id-3 div.sk-parallel-item:first-child::after {align-self: flex-end;width: 50%;}#sk-container-id-3 div.sk-parallel-item:last-child::after {align-self: flex-start;width: 50%;}#sk-container-id-3 div.sk-parallel-item:only-child::after {width: 0;}#sk-container-id-3 div.sk-dashed-wrapped {border: 1px dashed gray;margin: 0 0.4em 0.5em 0.4em;box-sizing: border-box;padding-bottom: 0.4em;background-color: white;}#sk-container-id-3 div.sk-label label {font-family: monospace;font-weight: bold;display: inline-block;line-height: 1.2em;}#sk-container-id-3 div.sk-label-container {text-align: center;}#sk-container-id-3 div.sk-container {/* jupyter's `normalize.less` sets `[hidden] { display: none; }` but bootstrap.min.css set `[hidden] { display: none !important; }` so we also need the `!important` here to be able to override the default hidden behavior on the sphinx rendered scikit-learn.org. See: https://github.com/scikit-learn/scikit-learn/issues/21755 */display: inline-block !important;position: relative;}#sk-container-id-3 div.sk-text-repr-fallback {display: none;}</style><div id=\"sk-container-id-3\" class=\"sk-top-container\"><div class=\"sk-text-repr-fallback\"><pre>LinearRegression()</pre><b>In a Jupyter environment, please rerun this cell to show the HTML representation or trust the notebook. <br />On GitHub, the HTML representation is unable to render, please try loading this page with nbviewer.org.</b></div><div class=\"sk-container\" hidden><div class=\"sk-item\"><div class=\"sk-estimator sk-toggleable\"><input class=\"sk-toggleable__control sk-hidden--visually\" id=\"sk-estimator-id-3\" type=\"checkbox\" checked><label for=\"sk-estimator-id-3\" class=\"sk-toggleable__label sk-toggleable__label-arrow\">LinearRegression</label><div class=\"sk-toggleable__content\"><pre>LinearRegression()</pre></div></div></div></div></div>"
      ],
      "text/plain": [
       "LinearRegression()"
      ]
     },
     "execution_count": 27,
     "metadata": {},
     "output_type": "execute_result"
    }
   ],
   "source": [
    "from sklearn.preprocessing import PolynomialFeatures\n",
    "poly_reg =  PolynomialFeatures(degree = 5)\n",
    "TV_poly = poly_reg.fit_transform(TV_train)\n",
    "modelo_poly5 = LinearRegression()\n",
    "modelo_poly5.fit(TV_poly, Sales_train)"
   ]
  },
  {
   "cell_type": "code",
   "execution_count": 28,
   "metadata": {},
   "outputs": [
    {
     "data": {
      "image/png": "[encoded data removed]",
      "text/plain": [
       "<Figure size 640x480 with 1 Axes>"
      ]
     },
     "metadata": {},
     "output_type": "display_data"
    }
   ],
   "source": [
    "curva_tendencia = modelo_poly5.predict(poly_reg.fit_transform(TV_train))\n",
    "plt.scatter(TV_train, Sales_train, color = 'b', )\n",
    "plt.scatter(TV_train, curva_tendencia, color='r', linestyle = 'solid')\n",
    "plt.show()"
   ]
  },
  {
   "cell_type": "code",
   "execution_count": 29,
   "metadata": {},
   "outputs": [
    {
     "data": {
      "text/plain": [
       "array([[11.06473206],\n",
       "       [13.65223194],\n",
       "       [15.39004818],\n",
       "       [ 7.6279614 ],\n",
       "       [17.86845037],\n",
       "       [12.08223462],\n",
       "       [16.73017066],\n",
       "       [15.46000177],\n",
       "       [18.3860714 ],\n",
       "       [ 7.39171729],\n",
       "       [18.92578361],\n",
       "       [14.54053215],\n",
       "       [21.71750742],\n",
       "       [16.46258418],\n",
       "       [18.1672883 ],\n",
       "       [18.19132705],\n",
       "       [ 9.74145023],\n",
       "       [17.17199388],\n",
       "       [10.18981985],\n",
       "       [17.62883376],\n",
       "       [12.90904035],\n",
       "       [10.94668848],\n",
       "       [19.57363206],\n",
       "       [17.17199388],\n",
       "       [15.63589618],\n",
       "       [21.59432913],\n",
       "       [16.7351016 ],\n",
       "       [17.25925522],\n",
       "       [16.0764402 ],\n",
       "       [11.20863182],\n",
       "       [11.28236389],\n",
       "       [ 8.86991056],\n",
       "       [17.90727151],\n",
       "       [17.99585754],\n",
       "       [17.62596396],\n",
       "       [11.5169862 ],\n",
       "       [10.75168205],\n",
       "       [12.22833843],\n",
       "       [18.19587747],\n",
       "       [ 7.64321316],\n",
       "       [ 5.43778532],\n",
       "       [10.38401597],\n",
       "       [ 7.73344629],\n",
       "       [10.78685614],\n",
       "       [18.22048864],\n",
       "       [ 5.7374134 ],\n",
       "       [11.68740486],\n",
       "       [16.04136465],\n",
       "       [12.60209272],\n",
       "       [17.93821477],\n",
       "       [ 8.48852833],\n",
       "       [11.34504024],\n",
       "       [10.77284321],\n",
       "       [18.19284199],\n",
       "       [18.84367723],\n",
       "       [10.80544817],\n",
       "       [11.32382299],\n",
       "       [ 4.63779699],\n",
       "       [ 6.39668884],\n",
       "       [11.77728389]])"
      ]
     },
     "execution_count": 29,
     "metadata": {},
     "output_type": "execute_result"
    }
   ],
   "source": [
    "predicciones = modelo_poly5.predict(poly_reg.fit_transform(TV_test))\n",
    "predicciones"
   ]
  },
  {
   "cell_type": "code",
   "execution_count": 30,
   "metadata": {},
   "outputs": [
    {
     "data": {
      "text/html": [
       "<div>\n",
       "<style scoped>\n",
       "    .dataframe tbody tr th:only-of-type {\n",
       "        vertical-align: middle;\n",
       "    }\n",
       "\n",
       "    .dataframe tbody tr th {\n",
       "        vertical-align: top;\n",
       "    }\n",
       "\n",
       "    .dataframe thead th {\n",
       "        text-align: right;\n",
       "    }\n",
       "</style>\n",
       "<table border=\"1\" class=\"dataframe\">\n",
       "  <thead>\n",
       "    <tr style=\"text-align: right;\">\n",
       "      <th></th>\n",
       "      <th>TV</th>\n",
       "      <th>Real</th>\n",
       "      <th>Predicho</th>\n",
       "    </tr>\n",
       "  </thead>\n",
       "  <tbody>\n",
       "    <tr>\n",
       "      <th>0</th>\n",
       "      <td>80.2</td>\n",
       "      <td>8.8</td>\n",
       "      <td>11.064732</td>\n",
       "    </tr>\n",
       "    <tr>\n",
       "      <th>1</th>\n",
       "      <td>137.9</td>\n",
       "      <td>19.2</td>\n",
       "      <td>13.652232</td>\n",
       "    </tr>\n",
       "    <tr>\n",
       "      <th>2</th>\n",
       "      <td>164.5</td>\n",
       "      <td>14.5</td>\n",
       "      <td>15.390048</td>\n",
       "    </tr>\n",
       "    <tr>\n",
       "      <th>3</th>\n",
       "      <td>18.7</td>\n",
       "      <td>6.7</td>\n",
       "      <td>7.627961</td>\n",
       "    </tr>\n",
       "    <tr>\n",
       "      <th>4</th>\n",
       "      <td>220.5</td>\n",
       "      <td>20.1</td>\n",
       "      <td>17.868450</td>\n",
       "    </tr>\n",
       "    <tr>\n",
       "      <th>5</th>\n",
       "      <td>109.8</td>\n",
       "      <td>16.7</td>\n",
       "      <td>12.082235</td>\n",
       "    </tr>\n",
       "    <tr>\n",
       "      <th>6</th>\n",
       "      <td>187.8</td>\n",
       "      <td>15.6</td>\n",
       "      <td>16.730171</td>\n",
       "    </tr>\n",
       "    <tr>\n",
       "      <th>7</th>\n",
       "      <td>165.6</td>\n",
       "      <td>12.6</td>\n",
       "      <td>15.460002</td>\n",
       "    </tr>\n",
       "    <tr>\n",
       "      <th>8</th>\n",
       "      <td>250.9</td>\n",
       "      <td>22.2</td>\n",
       "      <td>18.386071</td>\n",
       "    </tr>\n",
       "    <tr>\n",
       "      <th>9</th>\n",
       "      <td>17.2</td>\n",
       "      <td>5.9</td>\n",
       "      <td>7.391717</td>\n",
       "    </tr>\n",
       "  </tbody>\n",
       "</table>\n",
       "</div>"
      ],
      "text/plain": [
       "      TV  Real   Predicho\n",
       "0   80.2   8.8  11.064732\n",
       "1  137.9  19.2  13.652232\n",
       "2  164.5  14.5  15.390048\n",
       "3   18.7   6.7   7.627961\n",
       "4  220.5  20.1  17.868450\n",
       "5  109.8  16.7  12.082235\n",
       "6  187.8  15.6  16.730171\n",
       "7  165.6  12.6  15.460002\n",
       "8  250.9  22.2  18.386071\n",
       "9   17.2   5.9   7.391717"
      ]
     },
     "execution_count": 30,
     "metadata": {},
     "output_type": "execute_result"
    }
   ],
   "source": [
    "diccionario = {'TV': TV_test.flatten().tolist(),\n",
    "                'Real' : Sales_test.flatten().tolist(), \n",
    "               'Predicho' : predicciones.flatten().tolist()}\n",
    "diccionario\n",
    "comparaciones = pd.DataFrame(diccionario)\n",
    "comparaciones.head(10)"
   ]
  },
  {
   "cell_type": "code",
   "execution_count": 31,
   "metadata": {},
   "outputs": [
    {
     "name": "stdout",
     "output_type": "stream",
     "text": [
      "R Square : 0.5954\n",
      "R Square : 0.5860668081613637\n"
     ]
    }
   ],
   "source": [
    "# Con lo real vs predicciones\n",
    "r = np.corrcoef(comparaciones['Real'], comparaciones['Predicho'])\n",
    "r = r ** 2\n",
    "r = r.reshape(-1,2)\n",
    "r = r[0, 1]\n",
    "print('R Square :', np.round(r, 4) )\n",
    "# con r2_score([2, 5, 9], [3, 5, 11])\n",
    "print('R Square :', r2_score(comparaciones['Real'], comparaciones['Predicho'] ))"
   ]
  },
  {
   "cell_type": "code",
   "execution_count": 32,
   "metadata": {},
   "outputs": [
    {
     "name": "stdout",
     "output_type": "stream",
     "text": [
      "Mean Squared Error: MSE 10.923968288825149\n",
      "Root Mean Squared Error RMSE: 3.3051427032467373\n"
     ]
    }
   ],
   "source": [
    "print('Mean Squared Error: MSE', metrics.mean_squared_error(Sales_test, predicciones))\n",
    "print('Root Mean Squared Error RMSE:', np.sqrt(metrics.mean_squared_error(Sales_test, predicciones)))"
   ]
  },
  {
   "cell_type": "code",
   "execution_count": 33,
   "metadata": {},
   "outputs": [
    {
     "data": {
      "text/plain": [
       "[3.3667597455086358, 3.3130248488761387, 3.3051427032467373]"
      ]
     },
     "execution_count": 33,
     "metadata": {},
     "output_type": "execute_result"
    }
   ],
   "source": [
    "rmse.append(np.sqrt(metrics.mean_squared_error(Sales_test, predicciones)))\n",
    "rmse"
   ]
  },
  {
   "cell_type": "markdown",
   "metadata": {},
   "source": [
    "# Interpretación\n",
    "\n",
    "De acuerdo al valor de la métrica RMSE se puede observar que el mejor modelo es el de regresión polinomial de quinto nivel, seguido del modelo de regresión polinomial de segundo nivel y por último el modelo de regresión lineal simple debido a que el valor de RMSE es menor. El valor de R2 es mayor para el modelo de regresión polinomial de quinto nivel, seguido del modelo de regresión polinomial de segundo nivel y por último el modelo de regresión lineal simple debido a que el valor de R2 es mayor.\n"
   ]
  }
 ],
 "metadata": {
  "kernelspec": {
   "display_name": "Python 3.9.15 64-bit",
   "language": "python",
   "name": "python3"
  },
  "language_info": {
   "codemirror_mode": {
    "name": "ipython",
    "version": 3
   },
   "file_extension": ".py",
   "mimetype": "text/x-python",
   "name": "python",
   "nbconvert_exporter": "python",
   "pygments_lexer": "ipython3",
   "version": "3.9.15"
  },
  "orig_nbformat": 4,
  "vscode": {
   "interpreter": {
    "hash": "a665b5d41d17b532ea9890333293a1b812fa0b73c9c25c950b3cedf1bebd0438"
   }
  }
 },
 "nbformat": 4,
 "nbformat_minor": 2
}
