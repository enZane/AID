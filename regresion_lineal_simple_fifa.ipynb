{
 "cells": [
  {
   "cell_type": "markdown",
   "metadata": {},
   "source": [
    "# Caso 1. Regresión lineal simple Estatura PesoKgs de jugadores FIFA en Python\n",
    "\n",
    "## Date: 14/09\n",
    "\n",
    "## Autor:\n",
    "\n",
    "    EZEQUIEL OLIVAS MELENDEZ\n",
    "\n",
    "# Objetivo\n",
    "\n",
    "Realizar predicciones de peso de jugadores de fútbol con los datos de FIFA de acuerdo a la variable estatura a partir de un modelo de regresión lineal simple.\n",
    "\n",
    "# Descripción\n",
    "\n",
    "- Cargar librerías\n",
    "\n",
    "- Cargar datos\n",
    "\n",
    "- Seleccionar variables de estudio estatura y peso\n",
    "\n",
    "- Crear datos de entrenamiento y datos de validación\n",
    "\n",
    "- Construir el modelo de regresión lineal simple\n",
    "\n",
    "- Evaluar el modelo\n",
    "\n",
    "- Realizar predicciones con los datos validación\n",
    "\n",
    "- Realizar predicciones con datos nuevos\n",
    "\n",
    "- Interpretación del caso\n",
    "\n",
    "\n",
    "# Desarrollo\n",
    "\n",
    "## Cargar librerías"
   ]
  },
  {
   "cell_type": "code",
   "execution_count": 1,
   "metadata": {},
   "outputs": [],
   "source": [
    "import pandas as pd\n",
    "import numpy as np\n",
    "from sklearn import linear_model\n",
    "from sklearn.linear_model import LinearRegression\n",
    "#from sklearn.metrics import mean_squared_error, r2_score\n",
    "import matplotlib.pyplot as plt\n",
    "from sklearn.model_selection import train_test_split\n",
    "from sklearn import metrics\n",
    "#%matplotlib inline"
   ]
  },
  {
   "cell_type": "markdown",
   "metadata": {},
   "source": [
    "## Cargar datos"
   ]
  },
  {
   "cell_type": "code",
   "execution_count": 2,
   "metadata": {},
   "outputs": [],
   "source": [
    "datos = pd.read_csv(\"https://raw.githubusercontent.com/rpizarrog/Analisis-Inteligente-de-datos/main/datos/datos.limpios.csv\", encoding='latin1')"
   ]
  },
  {
   "cell_type": "markdown",
   "metadata": {},
   "source": [
    "## Explorar datos"
   ]
  },
  {
   "cell_type": "code",
   "execution_count": 3,
   "metadata": {},
   "outputs": [
    {
     "data": {
      "text/html": [
       "<div>\n",
       "<style scoped>\n",
       "    .dataframe tbody tr th:only-of-type {\n",
       "        vertical-align: middle;\n",
       "    }\n",
       "\n",
       "    .dataframe tbody tr th {\n",
       "        vertical-align: top;\n",
       "    }\n",
       "\n",
       "    .dataframe thead th {\n",
       "        text-align: right;\n",
       "    }\n",
       "</style>\n",
       "<table border=\"1\" class=\"dataframe\">\n",
       "  <thead>\n",
       "    <tr style=\"text-align: right;\">\n",
       "      <th></th>\n",
       "      <th>Estatura</th>\n",
       "      <th>PesoKgs</th>\n",
       "    </tr>\n",
       "  </thead>\n",
       "  <tbody>\n",
       "    <tr>\n",
       "      <th>count</th>\n",
       "      <td>17907.000000</td>\n",
       "      <td>17907.000000</td>\n",
       "    </tr>\n",
       "    <tr>\n",
       "      <th>mean</th>\n",
       "      <td>1.812325</td>\n",
       "      <td>75.279478</td>\n",
       "    </tr>\n",
       "    <tr>\n",
       "      <th>std</th>\n",
       "      <td>0.067671</td>\n",
       "      <td>7.077378</td>\n",
       "    </tr>\n",
       "    <tr>\n",
       "      <th>min</th>\n",
       "      <td>1.550000</td>\n",
       "      <td>49.900000</td>\n",
       "    </tr>\n",
       "    <tr>\n",
       "      <th>25%</th>\n",
       "      <td>1.750000</td>\n",
       "      <td>69.850000</td>\n",
       "    </tr>\n",
       "    <tr>\n",
       "      <th>50%</th>\n",
       "      <td>1.800000</td>\n",
       "      <td>74.840000</td>\n",
       "    </tr>\n",
       "    <tr>\n",
       "      <th>75%</th>\n",
       "      <td>1.850000</td>\n",
       "      <td>79.830000</td>\n",
       "    </tr>\n",
       "    <tr>\n",
       "      <th>max</th>\n",
       "      <td>2.060000</td>\n",
       "      <td>110.220000</td>\n",
       "    </tr>\n",
       "  </tbody>\n",
       "</table>\n",
       "</div>"
      ],
      "text/plain": [
       "           Estatura       PesoKgs\n",
       "count  17907.000000  17907.000000\n",
       "mean       1.812325     75.279478\n",
       "std        0.067671      7.077378\n",
       "min        1.550000     49.900000\n",
       "25%        1.750000     69.850000\n",
       "50%        1.800000     74.840000\n",
       "75%        1.850000     79.830000\n",
       "max        2.060000    110.220000"
      ]
     },
     "execution_count": 3,
     "metadata": {},
     "output_type": "execute_result"
    }
   ],
   "source": [
    "datos[['Estatura', 'PesoKgs']].describe()"
   ]
  },
  {
   "cell_type": "markdown",
   "metadata": {},
   "source": [
    "## Verificar si hay datos nulos"
   ]
  },
  {
   "cell_type": "code",
   "execution_count": 4,
   "metadata": {},
   "outputs": [
    {
     "name": "stdout",
     "output_type": "stream",
     "text": [
      "0\n",
      "0\n"
     ]
    }
   ],
   "source": [
    "print(datos['Estatura'].isnull().sum().sum())\n",
    "print(datos['PesoKgs'].isnull().sum().sum())"
   ]
  },
  {
   "cell_type": "markdown",
   "metadata": {},
   "source": [
    "## Partir datos en datos de entrenamiento y datos de validación\n",
    "\n",
    "\n",
    "Las variables de interés serán Estaura y PesoKgs de los datos de entrenamiento.\n",
    "\n",
    "De las dos variables de interés, Estatura y PesoKgs se determina que la variable predictora es Estatura y el PesoKgs es la variable de respuesta o también:\n",
    "\n",
    "Estatura es variable independiente y\n",
    "\n",
    "PesoKgs es variable dependiente\n",
    "\n",
    "Es decir, la variable PesoKgs depende de la Estatura Con la función loc[:'atributo'] se eligen las variables de interés del conjunto de datos"
   ]
  },
  {
   "cell_type": "code",
   "execution_count": 5,
   "metadata": {},
   "outputs": [],
   "source": [
    "estatura = datos[['Estatura']].to_numpy()\n",
    "pesokgs = datos[['PesoKgs']].to_numpy()"
   ]
  },
  {
   "cell_type": "code",
   "execution_count": 9,
   "metadata": {},
   "outputs": [
    {
     "data": {
      "text/plain": [
       "array([[1.85],\n",
       "       [1.93],\n",
       "       [1.85],\n",
       "       ...,\n",
       "       [1.83],\n",
       "       [1.75],\n",
       "       [1.78]])"
      ]
     },
     "execution_count": 9,
     "metadata": {},
     "output_type": "execute_result"
    }
   ],
   "source": [
    "estatura_train, estatura_test, pesokgs_train, pesokgs_test = train_test_split(estatura, pesokgs, test_size=0.3, random_state=2022)\n",
    "estatura_train"
   ]
  },
  {
   "cell_type": "code",
   "execution_count": 10,
   "metadata": {},
   "outputs": [
    {
     "data": {
      "text/html": [
       "<style>#sk-container-id-1 {color: black;background-color: white;}#sk-container-id-1 pre{padding: 0;}#sk-container-id-1 div.sk-toggleable {background-color: white;}#sk-container-id-1 label.sk-toggleable__label {cursor: pointer;display: block;width: 100%;margin-bottom: 0;padding: 0.3em;box-sizing: border-box;text-align: center;}#sk-container-id-1 label.sk-toggleable__label-arrow:before {content: \"▸\";float: left;margin-right: 0.25em;color: #696969;}#sk-container-id-1 label.sk-toggleable__label-arrow:hover:before {color: black;}#sk-container-id-1 div.sk-estimator:hover label.sk-toggleable__label-arrow:before {color: black;}#sk-container-id-1 div.sk-toggleable__content {max-height: 0;max-width: 0;overflow: hidden;text-align: left;background-color: #f0f8ff;}#sk-container-id-1 div.sk-toggleable__content pre {margin: 0.2em;color: black;border-radius: 0.25em;background-color: #f0f8ff;}#sk-container-id-1 input.sk-toggleable__control:checked~div.sk-toggleable__content {max-height: 200px;max-width: 100%;overflow: auto;}#sk-container-id-1 input.sk-toggleable__control:checked~label.sk-toggleable__label-arrow:before {content: \"▾\";}#sk-container-id-1 div.sk-estimator input.sk-toggleable__control:checked~label.sk-toggleable__label {background-color: #d4ebff;}#sk-container-id-1 div.sk-label input.sk-toggleable__control:checked~label.sk-toggleable__label {background-color: #d4ebff;}#sk-container-id-1 input.sk-hidden--visually {border: 0;clip: rect(1px 1px 1px 1px);clip: rect(1px, 1px, 1px, 1px);height: 1px;margin: -1px;overflow: hidden;padding: 0;position: absolute;width: 1px;}#sk-container-id-1 div.sk-estimator {font-family: monospace;background-color: #f0f8ff;border: 1px dotted black;border-radius: 0.25em;box-sizing: border-box;margin-bottom: 0.5em;}#sk-container-id-1 div.sk-estimator:hover {background-color: #d4ebff;}#sk-container-id-1 div.sk-parallel-item::after {content: \"\";width: 100%;border-bottom: 1px solid gray;flex-grow: 1;}#sk-container-id-1 div.sk-label:hover label.sk-toggleable__label {background-color: #d4ebff;}#sk-container-id-1 div.sk-serial::before {content: \"\";position: absolute;border-left: 1px solid gray;box-sizing: border-box;top: 0;bottom: 0;left: 50%;z-index: 0;}#sk-container-id-1 div.sk-serial {display: flex;flex-direction: column;align-items: center;background-color: white;padding-right: 0.2em;padding-left: 0.2em;position: relative;}#sk-container-id-1 div.sk-item {position: relative;z-index: 1;}#sk-container-id-1 div.sk-parallel {display: flex;align-items: stretch;justify-content: center;background-color: white;position: relative;}#sk-container-id-1 div.sk-item::before, #sk-container-id-1 div.sk-parallel-item::before {content: \"\";position: absolute;border-left: 1px solid gray;box-sizing: border-box;top: 0;bottom: 0;left: 50%;z-index: -1;}#sk-container-id-1 div.sk-parallel-item {display: flex;flex-direction: column;z-index: 1;position: relative;background-color: white;}#sk-container-id-1 div.sk-parallel-item:first-child::after {align-self: flex-end;width: 50%;}#sk-container-id-1 div.sk-parallel-item:last-child::after {align-self: flex-start;width: 50%;}#sk-container-id-1 div.sk-parallel-item:only-child::after {width: 0;}#sk-container-id-1 div.sk-dashed-wrapped {border: 1px dashed gray;margin: 0 0.4em 0.5em 0.4em;box-sizing: border-box;padding-bottom: 0.4em;background-color: white;}#sk-container-id-1 div.sk-label label {font-family: monospace;font-weight: bold;display: inline-block;line-height: 1.2em;}#sk-container-id-1 div.sk-label-container {text-align: center;}#sk-container-id-1 div.sk-container {/* jupyter's `normalize.less` sets `[hidden] { display: none; }` but bootstrap.min.css set `[hidden] { display: none !important; }` so we also need the `!important` here to be able to override the default hidden behavior on the sphinx rendered scikit-learn.org. See: https://github.com/scikit-learn/scikit-learn/issues/21755 */display: inline-block !important;position: relative;}#sk-container-id-1 div.sk-text-repr-fallback {display: none;}</style><div id=\"sk-container-id-1\" class=\"sk-top-container\"><div class=\"sk-text-repr-fallback\"><pre>LinearRegression()</pre><b>In a Jupyter environment, please rerun this cell to show the HTML representation or trust the notebook. <br />On GitHub, the HTML representation is unable to render, please try loading this page with nbviewer.org.</b></div><div class=\"sk-container\" hidden><div class=\"sk-item\"><div class=\"sk-estimator sk-toggleable\"><input class=\"sk-toggleable__control sk-hidden--visually\" id=\"sk-estimator-id-1\" type=\"checkbox\" checked><label for=\"sk-estimator-id-1\" class=\"sk-toggleable__label sk-toggleable__label-arrow\">LinearRegression</label><div class=\"sk-toggleable__content\"><pre>LinearRegression()</pre></div></div></div></div></div>"
      ],
      "text/plain": [
       "LinearRegression()"
      ]
     },
     "execution_count": 10,
     "metadata": {},
     "output_type": "execute_result"
    }
   ],
   "source": [
    "modelo = LinearRegression()\n",
    "modelo.fit(estatura_train, pesokgs_train)"
   ]
  },
  {
   "cell_type": "code",
   "execution_count": 14,
   "metadata": {},
   "outputs": [
    {
     "data": {
      "text/plain": [
       "[<matplotlib.lines.Line2D at 0x14b96a7c0>]"
      ]
     },
     "execution_count": 14,
     "metadata": {},
     "output_type": "execute_result"
    },
    {
     "data": {
      "image/png": "[encoded data removed]",
      "text/plain": [
       "<Figure size 640x480 with 1 Axes>"
      ]
     },
     "metadata": {},
     "output_type": "display_data"
    }
   ],
   "source": [
    "linea_tendencia = modelo.predict(estatura_train)\n",
    "plt.plot(estatura_train, pesokgs_train, 'o', color= '#d62728')\n",
    "plt.plot(estatura_train, linea_tendencia, color=\"#1f77b4\")"
   ]
  },
  {
   "cell_type": "markdown",
   "metadata": {},
   "source": [
    "## Coeficientes\n",
    "\n",
    "<math xmlns=\"http://www.w3.org/1998/Math/MathML\" display=\"block\">\n",
    "  <mi>Y</mi>\n",
    "  <mo>=</mo>\n",
    "  <mi>a</mi>\n",
    "  <mo>+</mo>\n",
    "  <mi>b</mi>\n",
    "  <mi>x</mi>\n",
    "</math>"
   ]
  },
  {
   "cell_type": "code",
   "execution_count": 15,
   "metadata": {},
   "outputs": [
    {
     "name": "stdout",
     "output_type": "stream",
     "text": [
      "Valor de a:  [-67.50986539]\n",
      "Valor de b;  [[78.78539487]]\n"
     ]
    }
   ],
   "source": [
    "\n",
    "a = modelo.intercept_\n",
    "b = modelo.coef_\n",
    "\n",
    "print(\"Valor de a: \", a)\n",
    "print(\"Valor de b; \", b)"
   ]
  },
  {
   "cell_type": "code",
   "execution_count": 16,
   "metadata": {},
   "outputs": [
    {
     "data": {
      "text/plain": [
       "array([[72.72813748],\n",
       "       [72.72813748],\n",
       "       [70.36457563],\n",
       "       ...,\n",
       "       [80.60667697],\n",
       "       [80.60667697],\n",
       "       [72.72813748]])"
      ]
     },
     "execution_count": 16,
     "metadata": {},
     "output_type": "execute_result"
    }
   ],
   "source": [
    "predicciones = modelo.predict(estatura_test)\n",
    "predicciones"
   ]
  },
  {
   "cell_type": "code",
   "execution_count": 17,
   "metadata": {},
   "outputs": [
    {
     "data": {
      "text/plain": [
       "array([[66.22],\n",
       "       [77.11],\n",
       "       [73.03],\n",
       "       ...,\n",
       "       [83.01],\n",
       "       [79.83],\n",
       "       [67.13]])"
      ]
     },
     "execution_count": 17,
     "metadata": {},
     "output_type": "execute_result"
    }
   ],
   "source": [
    "pesokgs_test"
   ]
  },
  {
   "cell_type": "code",
   "execution_count": 19,
   "metadata": {},
   "outputs": [
    {
     "data": {
      "text/html": [
       "<div>\n",
       "<style scoped>\n",
       "    .dataframe tbody tr th:only-of-type {\n",
       "        vertical-align: middle;\n",
       "    }\n",
       "\n",
       "    .dataframe tbody tr th {\n",
       "        vertical-align: top;\n",
       "    }\n",
       "\n",
       "    .dataframe thead th {\n",
       "        text-align: right;\n",
       "    }\n",
       "</style>\n",
       "<table border=\"1\" class=\"dataframe\">\n",
       "  <thead>\n",
       "    <tr style=\"text-align: right;\">\n",
       "      <th></th>\n",
       "      <th>Estatura</th>\n",
       "      <th>PesoKgs</th>\n",
       "      <th>Predicciones</th>\n",
       "    </tr>\n",
       "  </thead>\n",
       "  <tbody>\n",
       "    <tr>\n",
       "      <th>0</th>\n",
       "      <td>1.78</td>\n",
       "      <td>66.22</td>\n",
       "      <td>72.728137</td>\n",
       "    </tr>\n",
       "    <tr>\n",
       "      <th>1</th>\n",
       "      <td>1.78</td>\n",
       "      <td>77.11</td>\n",
       "      <td>72.728137</td>\n",
       "    </tr>\n",
       "    <tr>\n",
       "      <th>2</th>\n",
       "      <td>1.75</td>\n",
       "      <td>73.03</td>\n",
       "      <td>70.364576</td>\n",
       "    </tr>\n",
       "    <tr>\n",
       "      <th>3</th>\n",
       "      <td>1.91</td>\n",
       "      <td>88.00</td>\n",
       "      <td>82.970239</td>\n",
       "    </tr>\n",
       "    <tr>\n",
       "      <th>4</th>\n",
       "      <td>1.88</td>\n",
       "      <td>73.03</td>\n",
       "      <td>80.606677</td>\n",
       "    </tr>\n",
       "    <tr>\n",
       "      <th>5</th>\n",
       "      <td>1.78</td>\n",
       "      <td>74.84</td>\n",
       "      <td>72.728137</td>\n",
       "    </tr>\n",
       "    <tr>\n",
       "      <th>6</th>\n",
       "      <td>1.83</td>\n",
       "      <td>74.84</td>\n",
       "      <td>76.667407</td>\n",
       "    </tr>\n",
       "    <tr>\n",
       "      <th>7</th>\n",
       "      <td>1.75</td>\n",
       "      <td>71.21</td>\n",
       "      <td>70.364576</td>\n",
       "    </tr>\n",
       "    <tr>\n",
       "      <th>8</th>\n",
       "      <td>1.73</td>\n",
       "      <td>71.21</td>\n",
       "      <td>68.788868</td>\n",
       "    </tr>\n",
       "    <tr>\n",
       "      <th>9</th>\n",
       "      <td>1.78</td>\n",
       "      <td>78.02</td>\n",
       "      <td>72.728137</td>\n",
       "    </tr>\n",
       "    <tr>\n",
       "      <th>10</th>\n",
       "      <td>1.78</td>\n",
       "      <td>72.12</td>\n",
       "      <td>72.728137</td>\n",
       "    </tr>\n",
       "    <tr>\n",
       "      <th>11</th>\n",
       "      <td>1.83</td>\n",
       "      <td>72.12</td>\n",
       "      <td>76.667407</td>\n",
       "    </tr>\n",
       "    <tr>\n",
       "      <th>12</th>\n",
       "      <td>1.91</td>\n",
       "      <td>92.08</td>\n",
       "      <td>82.970239</td>\n",
       "    </tr>\n",
       "    <tr>\n",
       "      <th>13</th>\n",
       "      <td>1.75</td>\n",
       "      <td>68.04</td>\n",
       "      <td>70.364576</td>\n",
       "    </tr>\n",
       "    <tr>\n",
       "      <th>14</th>\n",
       "      <td>1.88</td>\n",
       "      <td>77.11</td>\n",
       "      <td>80.606677</td>\n",
       "    </tr>\n",
       "    <tr>\n",
       "      <th>15</th>\n",
       "      <td>1.70</td>\n",
       "      <td>68.04</td>\n",
       "      <td>66.425306</td>\n",
       "    </tr>\n",
       "    <tr>\n",
       "      <th>16</th>\n",
       "      <td>1.78</td>\n",
       "      <td>69.85</td>\n",
       "      <td>72.728137</td>\n",
       "    </tr>\n",
       "    <tr>\n",
       "      <th>17</th>\n",
       "      <td>1.83</td>\n",
       "      <td>77.11</td>\n",
       "      <td>76.667407</td>\n",
       "    </tr>\n",
       "    <tr>\n",
       "      <th>18</th>\n",
       "      <td>1.75</td>\n",
       "      <td>71.21</td>\n",
       "      <td>70.364576</td>\n",
       "    </tr>\n",
       "    <tr>\n",
       "      <th>19</th>\n",
       "      <td>1.75</td>\n",
       "      <td>68.04</td>\n",
       "      <td>70.364576</td>\n",
       "    </tr>\n",
       "  </tbody>\n",
       "</table>\n",
       "</div>"
      ],
      "text/plain": [
       "    Estatura  PesoKgs  Predicciones\n",
       "0       1.78    66.22     72.728137\n",
       "1       1.78    77.11     72.728137\n",
       "2       1.75    73.03     70.364576\n",
       "3       1.91    88.00     82.970239\n",
       "4       1.88    73.03     80.606677\n",
       "5       1.78    74.84     72.728137\n",
       "6       1.83    74.84     76.667407\n",
       "7       1.75    71.21     70.364576\n",
       "8       1.73    71.21     68.788868\n",
       "9       1.78    78.02     72.728137\n",
       "10      1.78    72.12     72.728137\n",
       "11      1.83    72.12     76.667407\n",
       "12      1.91    92.08     82.970239\n",
       "13      1.75    68.04     70.364576\n",
       "14      1.88    77.11     80.606677\n",
       "15      1.70    68.04     66.425306\n",
       "16      1.78    69.85     72.728137\n",
       "17      1.83    77.11     76.667407\n",
       "18      1.75    71.21     70.364576\n",
       "19      1.75    68.04     70.364576"
      ]
     },
     "execution_count": 19,
     "metadata": {},
     "output_type": "execute_result"
    }
   ],
   "source": [
    "diccionario = {\n",
    "    'Estatura': estatura_test.flatten().tolist(),\n",
    "    'PesoKgs': pesokgs_test.flatten().tolist(),\n",
    "    'Predicciones': predicciones.flatten().tolist()\n",
    "}\n",
    "comparaciones = pd.DataFrame(diccionario)\n",
    "comparaciones.head(20)"
   ]
  },
  {
   "cell_type": "code",
   "execution_count": 20,
   "metadata": {},
   "outputs": [
    {
     "data": {
      "text/html": [
       "<div>\n",
       "<style scoped>\n",
       "    .dataframe tbody tr th:only-of-type {\n",
       "        vertical-align: middle;\n",
       "    }\n",
       "\n",
       "    .dataframe tbody tr th {\n",
       "        vertical-align: top;\n",
       "    }\n",
       "\n",
       "    .dataframe thead th {\n",
       "        text-align: right;\n",
       "    }\n",
       "</style>\n",
       "<table border=\"1\" class=\"dataframe\">\n",
       "  <thead>\n",
       "    <tr style=\"text-align: right;\">\n",
       "      <th></th>\n",
       "      <th>Estatura</th>\n",
       "      <th>PesoKgs</th>\n",
       "      <th>Predicciones</th>\n",
       "    </tr>\n",
       "  </thead>\n",
       "  <tbody>\n",
       "    <tr>\n",
       "      <th>5353</th>\n",
       "      <td>1.93</td>\n",
       "      <td>79.83</td>\n",
       "      <td>84.545947</td>\n",
       "    </tr>\n",
       "    <tr>\n",
       "      <th>5354</th>\n",
       "      <td>1.93</td>\n",
       "      <td>86.18</td>\n",
       "      <td>84.545947</td>\n",
       "    </tr>\n",
       "    <tr>\n",
       "      <th>5355</th>\n",
       "      <td>1.85</td>\n",
       "      <td>78.02</td>\n",
       "      <td>78.243115</td>\n",
       "    </tr>\n",
       "    <tr>\n",
       "      <th>5356</th>\n",
       "      <td>1.75</td>\n",
       "      <td>73.94</td>\n",
       "      <td>70.364576</td>\n",
       "    </tr>\n",
       "    <tr>\n",
       "      <th>5357</th>\n",
       "      <td>1.91</td>\n",
       "      <td>79.83</td>\n",
       "      <td>82.970239</td>\n",
       "    </tr>\n",
       "    <tr>\n",
       "      <th>5358</th>\n",
       "      <td>1.83</td>\n",
       "      <td>78.93</td>\n",
       "      <td>76.667407</td>\n",
       "    </tr>\n",
       "    <tr>\n",
       "      <th>5359</th>\n",
       "      <td>1.78</td>\n",
       "      <td>72.12</td>\n",
       "      <td>72.728137</td>\n",
       "    </tr>\n",
       "    <tr>\n",
       "      <th>5360</th>\n",
       "      <td>1.91</td>\n",
       "      <td>82.10</td>\n",
       "      <td>82.970239</td>\n",
       "    </tr>\n",
       "    <tr>\n",
       "      <th>5361</th>\n",
       "      <td>1.93</td>\n",
       "      <td>91.17</td>\n",
       "      <td>84.545947</td>\n",
       "    </tr>\n",
       "    <tr>\n",
       "      <th>5362</th>\n",
       "      <td>1.78</td>\n",
       "      <td>78.02</td>\n",
       "      <td>72.728137</td>\n",
       "    </tr>\n",
       "    <tr>\n",
       "      <th>5363</th>\n",
       "      <td>1.78</td>\n",
       "      <td>71.21</td>\n",
       "      <td>72.728137</td>\n",
       "    </tr>\n",
       "    <tr>\n",
       "      <th>5364</th>\n",
       "      <td>1.75</td>\n",
       "      <td>73.03</td>\n",
       "      <td>70.364576</td>\n",
       "    </tr>\n",
       "    <tr>\n",
       "      <th>5365</th>\n",
       "      <td>1.83</td>\n",
       "      <td>69.85</td>\n",
       "      <td>76.667407</td>\n",
       "    </tr>\n",
       "    <tr>\n",
       "      <th>5366</th>\n",
       "      <td>1.91</td>\n",
       "      <td>83.01</td>\n",
       "      <td>82.970239</td>\n",
       "    </tr>\n",
       "    <tr>\n",
       "      <th>5367</th>\n",
       "      <td>1.88</td>\n",
       "      <td>79.83</td>\n",
       "      <td>80.606677</td>\n",
       "    </tr>\n",
       "    <tr>\n",
       "      <th>5368</th>\n",
       "      <td>1.88</td>\n",
       "      <td>83.01</td>\n",
       "      <td>80.606677</td>\n",
       "    </tr>\n",
       "    <tr>\n",
       "      <th>5369</th>\n",
       "      <td>1.88</td>\n",
       "      <td>74.84</td>\n",
       "      <td>80.606677</td>\n",
       "    </tr>\n",
       "    <tr>\n",
       "      <th>5370</th>\n",
       "      <td>1.88</td>\n",
       "      <td>83.01</td>\n",
       "      <td>80.606677</td>\n",
       "    </tr>\n",
       "    <tr>\n",
       "      <th>5371</th>\n",
       "      <td>1.88</td>\n",
       "      <td>79.83</td>\n",
       "      <td>80.606677</td>\n",
       "    </tr>\n",
       "    <tr>\n",
       "      <th>5372</th>\n",
       "      <td>1.78</td>\n",
       "      <td>67.13</td>\n",
       "      <td>72.728137</td>\n",
       "    </tr>\n",
       "  </tbody>\n",
       "</table>\n",
       "</div>"
      ],
      "text/plain": [
       "      Estatura  PesoKgs  Predicciones\n",
       "5353      1.93    79.83     84.545947\n",
       "5354      1.93    86.18     84.545947\n",
       "5355      1.85    78.02     78.243115\n",
       "5356      1.75    73.94     70.364576\n",
       "5357      1.91    79.83     82.970239\n",
       "5358      1.83    78.93     76.667407\n",
       "5359      1.78    72.12     72.728137\n",
       "5360      1.91    82.10     82.970239\n",
       "5361      1.93    91.17     84.545947\n",
       "5362      1.78    78.02     72.728137\n",
       "5363      1.78    71.21     72.728137\n",
       "5364      1.75    73.03     70.364576\n",
       "5365      1.83    69.85     76.667407\n",
       "5366      1.91    83.01     82.970239\n",
       "5367      1.88    79.83     80.606677\n",
       "5368      1.88    83.01     80.606677\n",
       "5369      1.88    74.84     80.606677\n",
       "5370      1.88    83.01     80.606677\n",
       "5371      1.88    79.83     80.606677\n",
       "5372      1.78    67.13     72.728137"
      ]
     },
     "execution_count": 20,
     "metadata": {},
     "output_type": "execute_result"
    }
   ],
   "source": [
    "comparaciones.tail(20)"
   ]
  },
  {
   "cell_type": "markdown",
   "metadata": {},
   "source": [
    "## Evaluando el modelo\n",
    "\n",
    "<math xmlns=\"http://www.w3.org/1998/Math/MathML\" display=\"block\">\n",
    "  <mi>M</mi>\n",
    "  <mi>A</mi>\n",
    "  <mi>E</mi>\n",
    "  <mo>=</mo>\n",
    "  <mi>P</mi>\n",
    "  <mi>e</mi>\n",
    "  <mi>n</mi>\n",
    "  <mi>d</mi>\n",
    "  <mi>i</mi>\n",
    "  <mi>e</mi>\n",
    "  <mi>n</mi>\n",
    "  <mi>t</mi>\n",
    "  <mi>e</mi>\n",
    "  <mo>.</mo>\n",
    "  <mo>.</mo>\n",
    "  <mo>.</mo>\n",
    "</math>\n",
    "\n",
    "<math xmlns=\"http://www.w3.org/1998/Math/MathML\" display=\"block\">\n",
    "  <mi>M</mi>\n",
    "  <mi>S</mi>\n",
    "  <mi>E</mi>\n",
    "  <mo>=</mo>\n",
    "  <mfrac>\n",
    "    <mrow>\n",
    "      <mo data-mjx-texclass=\"OP\">&#x2211;</mo>\n",
    "      <mo stretchy=\"false\">(</mo>\n",
    "      <mi>p</mi>\n",
    "      <mi>r</mi>\n",
    "      <mi>e</mi>\n",
    "      <mi>d</mi>\n",
    "      <mi>i</mi>\n",
    "      <mi>c</mi>\n",
    "      <mi>h</mi>\n",
    "      <msub>\n",
    "        <mi>o</mi>\n",
    "        <mi>i</mi>\n",
    "      </msub>\n",
    "      <mo>&#x2212;</mo>\n",
    "      <mi>r</mi>\n",
    "      <mi>e</mi>\n",
    "      <mi>a</mi>\n",
    "      <msub>\n",
    "        <mi>l</mi>\n",
    "        <mi>i</mi>\n",
    "      </msub>\n",
    "      <msup>\n",
    "        <mo stretchy=\"false\">)</mo>\n",
    "        <mrow data-mjx-texclass=\"ORD\">\n",
    "          <mn>2</mn>\n",
    "        </mrow>\n",
    "      </msup>\n",
    "    </mrow>\n",
    "    <mi>n</mi>\n",
    "  </mfrac>\n",
    "</math>\n",
    "\n",
    "<math xmlns=\"http://www.w3.org/1998/Math/MathML\" display=\"block\">\n",
    "  <mi>R</mi>\n",
    "  <mi>M</mi>\n",
    "  <mi>S</mi>\n",
    "  <mi>E</mi>\n",
    "  <mo>=</mo>\n",
    "  <msqrt>\n",
    "    <mfrac>\n",
    "      <mrow>\n",
    "        <mo data-mjx-texclass=\"OP\">&#x2211;</mo>\n",
    "        <mo stretchy=\"false\">(</mo>\n",
    "        <mi>p</mi>\n",
    "        <mi>r</mi>\n",
    "        <mi>e</mi>\n",
    "        <mi>d</mi>\n",
    "        <mi>i</mi>\n",
    "        <mi>c</mi>\n",
    "        <mi>h</mi>\n",
    "        <msub>\n",
    "          <mi>o</mi>\n",
    "          <mi>i</mi>\n",
    "        </msub>\n",
    "        <mo>&#x2212;</mo>\n",
    "        <mi>r</mi>\n",
    "        <mi>e</mi>\n",
    "        <mi>a</mi>\n",
    "        <msub>\n",
    "          <mi>l</mi>\n",
    "          <mi>i</mi>\n",
    "        </msub>\n",
    "        <msup>\n",
    "          <mo stretchy=\"false\">)</mo>\n",
    "          <mrow data-mjx-texclass=\"ORD\">\n",
    "            <mn>2</mn>\n",
    "          </mrow>\n",
    "        </msup>\n",
    "      </mrow>\n",
    "      <mi>n</mi>\n",
    "    </mfrac>\n",
    "  </msqrt>\n",
    "</math>\n",
    "\n",
    "<math xmlns=\"http://www.w3.org/1998/Math/MathML\" display=\"block\">\n",
    "  <mtext>Multipel R Squared&#xA0;</mtext>\n",
    "  <mo>=</mo>\n",
    "  <msup>\n",
    "    <mi>R</mi>\n",
    "    <mn>2</mn>\n",
    "  </msup>\n",
    "  <mo>=</mo>\n",
    "  <mi>c</mi>\n",
    "  <mi>o</mi>\n",
    "  <mi>r</mi>\n",
    "  <mo stretchy=\"false\">(</mo>\n",
    "  <mi>x</mi>\n",
    "  <mo>,</mo>\n",
    "  <mi>y</mi>\n",
    "  <msup>\n",
    "    <mo stretchy=\"false\">)</mo>\n",
    "    <mn>2</mn>\n",
    "  </msup>\n",
    "  <mtext>; de Pearson</mtext>\n",
    "</math>"
   ]
  },
  {
   "cell_type": "code",
   "execution_count": 21,
   "metadata": {},
   "outputs": [
    {
     "name": "stdout",
     "output_type": "stream",
     "text": [
      "Mean Absolute Error: MAE 3.632652042179118\n",
      "Mean Squared Error: MSE 21.813749730525863\n",
      "Root Mean Squared Error RMSE: 4.670519214233666\n",
      "Multiple R Square : 0.5681\n"
     ]
    }
   ],
   "source": [
    "print('Mean Absolute Error: MAE', metrics.mean_absolute_error(pesokgs_test, predicciones))\n",
    "print('Mean Squared Error: MSE', metrics.mean_squared_error(pesokgs_test, predicciones))\n",
    "print('Root Mean Squared Error RMSE:', np.sqrt(metrics.mean_squared_error(pesokgs_test, predicciones)))\n",
    "\n",
    "r = np.corrcoef(estatura_train.flatten().tolist(), pesokgs_train.flatten().tolist())\n",
    "r = r ** 2\n",
    "r = r.reshape(-1,2)\n",
    "r = r[0, 1]\n",
    "print('Multiple R Square :', np.round(r, 4) )"
   ]
  },
  {
   "cell_type": "markdown",
   "metadata": {},
   "source": [
    "## Interpretación\n",
    "\n",
    "De este trabajo podemos observar como la regresión lineal simple es una herramienta muy útil para tratar de predecir el comportamiento de una variable dependiente en función de una variable independiente. En este caso, la variable independiente es la estatura y la variable dependiente es el peso. El modelo de regresión lineal simple nos permitió obtener una ecuación que nos permite predecir el peso de una persona a partir de su estatura. En este caso, el modelo de regresión lineal simple nos permitió obtener una ecuación que nos permite predecir el peso de una persona a partir de su estatura. En este caso, el modelo de regresión lineal simple nos permitió obtener una ecuación que nos permite predecir el peso de una persona a partir de su estatura."
   ]
  }
 ],
 "metadata": {
  "kernelspec": {
   "display_name": "Python 3.9.10 64-bit",
   "language": "python",
   "name": "python3"
  },
  "language_info": {
   "codemirror_mode": {
    "name": "ipython",
    "version": 3
   },
   "file_extension": ".py",
   "mimetype": "text/x-python",
   "name": "python",
   "nbconvert_exporter": "python",
   "pygments_lexer": "ipython3",
   "version": "3.9.10"
  },
  "orig_nbformat": 4,
  "vscode": {
   "interpreter": {
    "hash": "b0fa6594d8f4cbf19f97940f81e996739fb7646882a419484c72d19e05852a7e"
   }
  }
 },
 "nbformat": 4,
 "nbformat_minor": 2
}
