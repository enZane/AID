{
 "cells": [
  {
   "cell_type": "markdown",
   "metadata": {},
   "source": [
    "# Caso 2. Comparación y evaluación de métricas de regresión lineal simple vs. regresión polinomial Python\n",
    "\n",
    "## Date: 14/09\n",
    "\n",
    "## Autor:\n",
    "\n",
    "    EZEQUIEL OLIVAS MELENDEZ\n",
    "\n",
    "# Objetivo\n",
    "\n",
    "Construir modelos de regresión lineal simple y polinómico importando datos FIFA con variable Overall y Valor para realizar predicciones evaluando y comparando su rendimiento en métricas incialmente establecidas.\n",
    "\n",
    "# Descripción\n",
    "\n",
    "- Cargar librerías\n",
    "\n",
    "- Cargar datos de FIFA\n",
    "\n",
    "- Métricas a evaluar\n",
    "\n",
    "- Explorar datos\n",
    "\n",
    "- Variables independiente y dependiente\n",
    "\n",
    "- Visualizar dispersión de los datos\n",
    "\n",
    "- Construir datos de entrenamiento y datos de validación.\n",
    "\n",
    "- Regresión Lineal Simple\n",
    "\n",
    "- Construir el modelo\n",
    "\n",
    "- Predicciones\n",
    "\n",
    "- Metricas del modelo\n",
    "\n",
    "- Regresión Polinómica de segundo\n",
    "\n",
    "- Construir el modelo\n",
    "\n",
    "- Predicciones\n",
    "\n",
    "- Métricas del modelo\n",
    "\n",
    "- Regresión Polinómica de quinto nivel\n",
    " \n",
    "- Construir el modelo\n",
    "\n",
    "- Predicciones\n",
    "\n",
    "- Métricas del modelo\n",
    "\n",
    "- Interpretación\n",
    "\n",
    "\n",
    "# Desarrollo\n",
    "\n",
    "## Métricas a valorar en los modelos\n",
    "Se van a realizar y evaluar métricas de las predicciones con los modelos de regresión lineal simple y regresión polinómica con los mismos datos.\n",
    "\n",
    "Los modelos se aceptan si las métricas cumplen estos requisitos:\n",
    "\n",
    "El valor de R Square y R Square ajustado sobrepasa el 50%,\n",
    "\n",
    "Que sus variables sea estadísticamente significativas al 95%. Al menos un ‘*’\n",
    "\n",
    "Que el valor de RMSE (Raiz del Error Estándar Medio) sea menor que : 2 000 000 (dos millones).\n",
    "\n",
    "Al final se deben comparar los modelos.\n",
    "\n",
    "## Cargar librerías"
   ]
  },
  {
   "cell_type": "code",
   "execution_count": 14,
   "metadata": {},
   "outputs": [],
   "source": [
    "\n",
    "import pandas as pd\n",
    "import numpy as np\n",
    "from sklearn import linear_model\n",
    "from sklearn.linear_model import LinearRegression\n",
    "from sklearn.preprocessing import PolynomialFeatures # Polinomial\n",
    "\n",
    "import matplotlib.pyplot as plt\n",
    "from sklearn.model_selection import train_test_split\n",
    "from sklearn import metrics\n",
    "from sklearn.metrics import mean_squared_error, r2_score\n",
    "#%matplotlib inline"
   ]
  },
  {
   "cell_type": "code",
   "execution_count": 15,
   "metadata": {},
   "outputs": [
    {
     "data": {
      "text/html": [
       "<div>\n",
       "<style scoped>\n",
       "    .dataframe tbody tr th:only-of-type {\n",
       "        vertical-align: middle;\n",
       "    }\n",
       "\n",
       "    .dataframe tbody tr th {\n",
       "        vertical-align: top;\n",
       "    }\n",
       "\n",
       "    .dataframe thead th {\n",
       "        text-align: right;\n",
       "    }\n",
       "</style>\n",
       "<table border=\"1\" class=\"dataframe\">\n",
       "  <thead>\n",
       "    <tr style=\"text-align: right;\">\n",
       "      <th></th>\n",
       "      <th>Unnamed: 0</th>\n",
       "      <th>X</th>\n",
       "      <th>Name</th>\n",
       "      <th>Age</th>\n",
       "      <th>Nationality</th>\n",
       "      <th>Overall</th>\n",
       "      <th>Potential</th>\n",
       "      <th>Club</th>\n",
       "      <th>Preferred.Foot</th>\n",
       "      <th>International.Reputation</th>\n",
       "      <th>...</th>\n",
       "      <th>StandingTackle</th>\n",
       "      <th>SlidingTackle</th>\n",
       "      <th>GKDiving</th>\n",
       "      <th>GKHandling</th>\n",
       "      <th>GKKicking</th>\n",
       "      <th>GKPositioning</th>\n",
       "      <th>GKReflexes</th>\n",
       "      <th>Valor</th>\n",
       "      <th>Estatura</th>\n",
       "      <th>PesoKgs</th>\n",
       "    </tr>\n",
       "  </thead>\n",
       "  <tbody>\n",
       "    <tr>\n",
       "      <th>0</th>\n",
       "      <td>1</td>\n",
       "      <td>1</td>\n",
       "      <td>L. Messi</td>\n",
       "      <td>31</td>\n",
       "      <td>Argentina</td>\n",
       "      <td>94</td>\n",
       "      <td>94</td>\n",
       "      <td>FC Barcelona</td>\n",
       "      <td>Left</td>\n",
       "      <td>5</td>\n",
       "      <td>...</td>\n",
       "      <td>28</td>\n",
       "      <td>26</td>\n",
       "      <td>6</td>\n",
       "      <td>11</td>\n",
       "      <td>15</td>\n",
       "      <td>14</td>\n",
       "      <td>8</td>\n",
       "      <td>110500000</td>\n",
       "      <td>1.70</td>\n",
       "      <td>72.12</td>\n",
       "    </tr>\n",
       "    <tr>\n",
       "      <th>1</th>\n",
       "      <td>2</td>\n",
       "      <td>2</td>\n",
       "      <td>Cristiano Ronaldo</td>\n",
       "      <td>33</td>\n",
       "      <td>Portugal</td>\n",
       "      <td>94</td>\n",
       "      <td>94</td>\n",
       "      <td>Juventus</td>\n",
       "      <td>Right</td>\n",
       "      <td>5</td>\n",
       "      <td>...</td>\n",
       "      <td>31</td>\n",
       "      <td>23</td>\n",
       "      <td>7</td>\n",
       "      <td>11</td>\n",
       "      <td>15</td>\n",
       "      <td>14</td>\n",
       "      <td>11</td>\n",
       "      <td>77000000</td>\n",
       "      <td>1.88</td>\n",
       "      <td>83.01</td>\n",
       "    </tr>\n",
       "    <tr>\n",
       "      <th>2</th>\n",
       "      <td>3</td>\n",
       "      <td>3</td>\n",
       "      <td>Neymar Jr</td>\n",
       "      <td>26</td>\n",
       "      <td>Brazil</td>\n",
       "      <td>92</td>\n",
       "      <td>93</td>\n",
       "      <td>Paris Saint-Germain</td>\n",
       "      <td>Right</td>\n",
       "      <td>5</td>\n",
       "      <td>...</td>\n",
       "      <td>24</td>\n",
       "      <td>33</td>\n",
       "      <td>9</td>\n",
       "      <td>9</td>\n",
       "      <td>15</td>\n",
       "      <td>15</td>\n",
       "      <td>11</td>\n",
       "      <td>118500000</td>\n",
       "      <td>1.75</td>\n",
       "      <td>68.04</td>\n",
       "    </tr>\n",
       "    <tr>\n",
       "      <th>3</th>\n",
       "      <td>4</td>\n",
       "      <td>4</td>\n",
       "      <td>De Gea</td>\n",
       "      <td>27</td>\n",
       "      <td>Spain</td>\n",
       "      <td>91</td>\n",
       "      <td>93</td>\n",
       "      <td>Manchester United</td>\n",
       "      <td>Right</td>\n",
       "      <td>4</td>\n",
       "      <td>...</td>\n",
       "      <td>21</td>\n",
       "      <td>13</td>\n",
       "      <td>90</td>\n",
       "      <td>85</td>\n",
       "      <td>87</td>\n",
       "      <td>88</td>\n",
       "      <td>94</td>\n",
       "      <td>72000000</td>\n",
       "      <td>1.93</td>\n",
       "      <td>76.20</td>\n",
       "    </tr>\n",
       "    <tr>\n",
       "      <th>4</th>\n",
       "      <td>5</td>\n",
       "      <td>5</td>\n",
       "      <td>K. De Bruyne</td>\n",
       "      <td>27</td>\n",
       "      <td>Belgium</td>\n",
       "      <td>91</td>\n",
       "      <td>92</td>\n",
       "      <td>Manchester City</td>\n",
       "      <td>Right</td>\n",
       "      <td>4</td>\n",
       "      <td>...</td>\n",
       "      <td>58</td>\n",
       "      <td>51</td>\n",
       "      <td>15</td>\n",
       "      <td>13</td>\n",
       "      <td>5</td>\n",
       "      <td>10</td>\n",
       "      <td>13</td>\n",
       "      <td>102000000</td>\n",
       "      <td>1.80</td>\n",
       "      <td>69.85</td>\n",
       "    </tr>\n",
       "    <tr>\n",
       "      <th>...</th>\n",
       "      <td>...</td>\n",
       "      <td>...</td>\n",
       "      <td>...</td>\n",
       "      <td>...</td>\n",
       "      <td>...</td>\n",
       "      <td>...</td>\n",
       "      <td>...</td>\n",
       "      <td>...</td>\n",
       "      <td>...</td>\n",
       "      <td>...</td>\n",
       "      <td>...</td>\n",
       "      <td>...</td>\n",
       "      <td>...</td>\n",
       "      <td>...</td>\n",
       "      <td>...</td>\n",
       "      <td>...</td>\n",
       "      <td>...</td>\n",
       "      <td>...</td>\n",
       "      <td>...</td>\n",
       "      <td>...</td>\n",
       "      <td>...</td>\n",
       "    </tr>\n",
       "    <tr>\n",
       "      <th>17902</th>\n",
       "      <td>17951</td>\n",
       "      <td>17951</td>\n",
       "      <td>J. Lundstram</td>\n",
       "      <td>19</td>\n",
       "      <td>England</td>\n",
       "      <td>47</td>\n",
       "      <td>65</td>\n",
       "      <td>Crewe Alexandra</td>\n",
       "      <td>Right</td>\n",
       "      <td>1</td>\n",
       "      <td>...</td>\n",
       "      <td>48</td>\n",
       "      <td>47</td>\n",
       "      <td>10</td>\n",
       "      <td>13</td>\n",
       "      <td>7</td>\n",
       "      <td>8</td>\n",
       "      <td>9</td>\n",
       "      <td>60000</td>\n",
       "      <td>1.75</td>\n",
       "      <td>60.78</td>\n",
       "    </tr>\n",
       "    <tr>\n",
       "      <th>17903</th>\n",
       "      <td>17952</td>\n",
       "      <td>17952</td>\n",
       "      <td>N. Christoffersson</td>\n",
       "      <td>19</td>\n",
       "      <td>Sweden</td>\n",
       "      <td>47</td>\n",
       "      <td>63</td>\n",
       "      <td>Trelleborgs FF</td>\n",
       "      <td>Right</td>\n",
       "      <td>1</td>\n",
       "      <td>...</td>\n",
       "      <td>15</td>\n",
       "      <td>19</td>\n",
       "      <td>10</td>\n",
       "      <td>9</td>\n",
       "      <td>9</td>\n",
       "      <td>5</td>\n",
       "      <td>12</td>\n",
       "      <td>60000</td>\n",
       "      <td>1.91</td>\n",
       "      <td>77.11</td>\n",
       "    </tr>\n",
       "    <tr>\n",
       "      <th>17904</th>\n",
       "      <td>17953</td>\n",
       "      <td>17953</td>\n",
       "      <td>B. Worman</td>\n",
       "      <td>16</td>\n",
       "      <td>England</td>\n",
       "      <td>47</td>\n",
       "      <td>67</td>\n",
       "      <td>Cambridge United</td>\n",
       "      <td>Right</td>\n",
       "      <td>1</td>\n",
       "      <td>...</td>\n",
       "      <td>13</td>\n",
       "      <td>11</td>\n",
       "      <td>6</td>\n",
       "      <td>5</td>\n",
       "      <td>10</td>\n",
       "      <td>6</td>\n",
       "      <td>13</td>\n",
       "      <td>60000</td>\n",
       "      <td>1.73</td>\n",
       "      <td>67.13</td>\n",
       "    </tr>\n",
       "    <tr>\n",
       "      <th>17905</th>\n",
       "      <td>17954</td>\n",
       "      <td>17954</td>\n",
       "      <td>D. Walker-Rice</td>\n",
       "      <td>17</td>\n",
       "      <td>England</td>\n",
       "      <td>47</td>\n",
       "      <td>66</td>\n",
       "      <td>Tranmere Rovers</td>\n",
       "      <td>Right</td>\n",
       "      <td>1</td>\n",
       "      <td>...</td>\n",
       "      <td>25</td>\n",
       "      <td>27</td>\n",
       "      <td>14</td>\n",
       "      <td>6</td>\n",
       "      <td>14</td>\n",
       "      <td>8</td>\n",
       "      <td>9</td>\n",
       "      <td>60000</td>\n",
       "      <td>1.78</td>\n",
       "      <td>69.85</td>\n",
       "    </tr>\n",
       "    <tr>\n",
       "      <th>17906</th>\n",
       "      <td>17955</td>\n",
       "      <td>17955</td>\n",
       "      <td>G. Nugent</td>\n",
       "      <td>16</td>\n",
       "      <td>England</td>\n",
       "      <td>46</td>\n",
       "      <td>66</td>\n",
       "      <td>Tranmere Rovers</td>\n",
       "      <td>Right</td>\n",
       "      <td>1</td>\n",
       "      <td>...</td>\n",
       "      <td>43</td>\n",
       "      <td>50</td>\n",
       "      <td>10</td>\n",
       "      <td>15</td>\n",
       "      <td>9</td>\n",
       "      <td>12</td>\n",
       "      <td>9</td>\n",
       "      <td>60000</td>\n",
       "      <td>1.78</td>\n",
       "      <td>79.83</td>\n",
       "    </tr>\n",
       "  </tbody>\n",
       "</table>\n",
       "<p>17907 rows × 51 columns</p>\n",
       "</div>"
      ],
      "text/plain": [
       "       Unnamed: 0      X                Name  Age Nationality  Overall  \\\n",
       "0               1      1            L. Messi   31   Argentina       94   \n",
       "1               2      2   Cristiano Ronaldo   33    Portugal       94   \n",
       "2               3      3           Neymar Jr   26      Brazil       92   \n",
       "3               4      4              De Gea   27       Spain       91   \n",
       "4               5      5        K. De Bruyne   27     Belgium       91   \n",
       "...           ...    ...                 ...  ...         ...      ...   \n",
       "17902       17951  17951        J. Lundstram   19     England       47   \n",
       "17903       17952  17952  N. Christoffersson   19      Sweden       47   \n",
       "17904       17953  17953           B. Worman   16     England       47   \n",
       "17905       17954  17954      D. Walker-Rice   17     England       47   \n",
       "17906       17955  17955           G. Nugent   16     England       46   \n",
       "\n",
       "       Potential                 Club Preferred.Foot  \\\n",
       "0             94         FC Barcelona           Left   \n",
       "1             94             Juventus          Right   \n",
       "2             93  Paris Saint-Germain          Right   \n",
       "3             93    Manchester United          Right   \n",
       "4             92      Manchester City          Right   \n",
       "...          ...                  ...            ...   \n",
       "17902         65      Crewe Alexandra          Right   \n",
       "17903         63       Trelleborgs FF          Right   \n",
       "17904         67     Cambridge United          Right   \n",
       "17905         66      Tranmere Rovers          Right   \n",
       "17906         66      Tranmere Rovers          Right   \n",
       "\n",
       "       International.Reputation  ...  StandingTackle  SlidingTackle GKDiving  \\\n",
       "0                             5  ...              28             26        6   \n",
       "1                             5  ...              31             23        7   \n",
       "2                             5  ...              24             33        9   \n",
       "3                             4  ...              21             13       90   \n",
       "4                             4  ...              58             51       15   \n",
       "...                         ...  ...             ...            ...      ...   \n",
       "17902                         1  ...              48             47       10   \n",
       "17903                         1  ...              15             19       10   \n",
       "17904                         1  ...              13             11        6   \n",
       "17905                         1  ...              25             27       14   \n",
       "17906                         1  ...              43             50       10   \n",
       "\n",
       "      GKHandling  GKKicking  GKPositioning  GKReflexes      Valor  Estatura  \\\n",
       "0             11         15             14           8  110500000      1.70   \n",
       "1             11         15             14          11   77000000      1.88   \n",
       "2              9         15             15          11  118500000      1.75   \n",
       "3             85         87             88          94   72000000      1.93   \n",
       "4             13          5             10          13  102000000      1.80   \n",
       "...          ...        ...            ...         ...        ...       ...   \n",
       "17902         13          7              8           9      60000      1.75   \n",
       "17903          9          9              5          12      60000      1.91   \n",
       "17904          5         10              6          13      60000      1.73   \n",
       "17905          6         14              8           9      60000      1.78   \n",
       "17906         15          9             12           9      60000      1.78   \n",
       "\n",
       "       PesoKgs  \n",
       "0        72.12  \n",
       "1        83.01  \n",
       "2        68.04  \n",
       "3        76.20  \n",
       "4        69.85  \n",
       "...        ...  \n",
       "17902    60.78  \n",
       "17903    77.11  \n",
       "17904    67.13  \n",
       "17905    69.85  \n",
       "17906    79.83  \n",
       "\n",
       "[17907 rows x 51 columns]"
      ]
     },
     "execution_count": 15,
     "metadata": {},
     "output_type": "execute_result"
    }
   ],
   "source": [
    "datos = pd.read_csv(\"https://raw.githubusercontent.com/rpizarrog/Analisis-Inteligente-de-datos/main/datos/datos.limpios.csv\", encoding='latin1')\n",
    "datos"
   ]
  },
  {
   "cell_type": "code",
   "execution_count": 16,
   "metadata": {},
   "outputs": [
    {
     "name": "stdout",
     "output_type": "stream",
     "text": [
      "Observaciones y variables:  (17907, 51)\n",
      "Columnas y tipo de dato\n"
     ]
    },
    {
     "data": {
      "text/plain": [
       "Unnamed: 0                    int64\n",
       "X                             int64\n",
       "Name                         object\n",
       "Age                           int64\n",
       "Nationality                  object\n",
       "Overall                       int64\n",
       "Potential                     int64\n",
       "Club                         object\n",
       "Preferred.Foot               object\n",
       "International.Reputation      int64\n",
       "Weak.Foot                     int64\n",
       "Skill.Moves                   int64\n",
       "Height                       object\n",
       "Weight                       object\n",
       "Crossing                      int64\n",
       "Finishing                     int64\n",
       "HeadingAccuracy               int64\n",
       "ShortPassing                  int64\n",
       "Volleys                       int64\n",
       "Dribbling                     int64\n",
       "Curve                         int64\n",
       "FKAccuracy                    int64\n",
       "LongPassing                   int64\n",
       "BallControl                   int64\n",
       "Acceleration                  int64\n",
       "SprintSpeed                   int64\n",
       "Agility                       int64\n",
       "Reactions                     int64\n",
       "Balance                       int64\n",
       "ShotPower                     int64\n",
       "Jumping                       int64\n",
       "Stamina                       int64\n",
       "Strength                      int64\n",
       "LongShots                     int64\n",
       "Aggression                    int64\n",
       "Interceptions                 int64\n",
       "Positioning                   int64\n",
       "Vision                        int64\n",
       "Penalties                     int64\n",
       "Composure                     int64\n",
       "Marking                       int64\n",
       "StandingTackle                int64\n",
       "SlidingTackle                 int64\n",
       "GKDiving                      int64\n",
       "GKHandling                    int64\n",
       "GKKicking                     int64\n",
       "GKPositioning                 int64\n",
       "GKReflexes                    int64\n",
       "Valor                         int64\n",
       "Estatura                    float64\n",
       "PesoKgs                     float64\n",
       "dtype: object"
      ]
     },
     "execution_count": 16,
     "metadata": {},
     "output_type": "execute_result"
    }
   ],
   "source": [
    "print(\"Observaciones y variables: \", datos.shape)\n",
    "print(\"Columnas y tipo de dato\")\n",
    "# datos.columns\n",
    "datos.dtypes"
   ]
  },
  {
   "cell_type": "markdown",
   "metadata": {},
   "source": [
    "## Variables independiente y dependiente\n",
    "Se identifican dos variables numéricas de interés:\n",
    "\n",
    "- Overall: Reputación y jerarquía internacional numérica del jugador\n",
    "\n",
    "- Valor: Sería el valor económico internacional de los jugadores\n",
    "\n",
    "Se define a la variable independiente como Overall y la variable dependiente Valor, es decir, Overall impacta sobre Valor o los números económicos de la variable Valor dependen de Overall."
   ]
  },
  {
   "cell_type": "code",
   "execution_count": 17,
   "metadata": {},
   "outputs": [
    {
     "data": {
      "text/plain": [
       "count    17907.000000\n",
       "mean        66.239571\n",
       "std          6.926818\n",
       "min         46.000000\n",
       "25%         62.000000\n",
       "50%         66.000000\n",
       "75%         71.000000\n",
       "max         94.000000\n",
       "Name: Overall, dtype: float64"
      ]
     },
     "execution_count": 17,
     "metadata": {},
     "output_type": "execute_result"
    }
   ],
   "source": [
    "datos['Overall'].describe()"
   ]
  },
  {
   "cell_type": "code",
   "execution_count": 18,
   "metadata": {},
   "outputs": [
    {
     "data": {
      "text/plain": [
       "count    17907.000000\n",
       "mean        66.239571\n",
       "std          6.926818\n",
       "min         46.000000\n",
       "25%         62.000000\n",
       "50%         66.000000\n",
       "75%         71.000000\n",
       "max         94.000000\n",
       "Name: Overall, dtype: float64"
      ]
     },
     "execution_count": 18,
     "metadata": {},
     "output_type": "execute_result"
    }
   ],
   "source": [
    "datos['Overall'].describe()"
   ]
  },
  {
   "cell_type": "markdown",
   "metadata": {},
   "source": [
    "## Dispersión de los datos"
   ]
  },
  {
   "cell_type": "code",
   "execution_count": 19,
   "metadata": {},
   "outputs": [
    {
     "data": {
      "text/plain": [
       "[<matplotlib.lines.Line2D at 0x132fdbd30>]"
      ]
     },
     "execution_count": 19,
     "metadata": {},
     "output_type": "execute_result"
    },
    {
     "data": {
      "image/png": "[encoded data removed]",
      "text/plain": [
       "<Figure size 640x480 with 1 Axes>"
      ]
     },
     "metadata": {},
     "output_type": "display_data"
    }
   ],
   "source": [
    "plt.plot(datos['Overall'], datos['Valor'], 'o', color= 'blue')"
   ]
  },
  {
   "cell_type": "markdown",
   "metadata": {},
   "source": [
    "Se observa que la relación de los datos no es del todo lineal, pero se construirán los modelos de regresión lineal simple y polinómico con las mismas variables."
   ]
  },
  {
   "cell_type": "markdown",
   "metadata": {},
   "source": [
    "## Datos de entrenamiento y datos de validación\n",
    "Se parten los datos 70% datos de entrenamiento y 30% datos de validación"
   ]
  },
  {
   "cell_type": "code",
   "execution_count": 20,
   "metadata": {},
   "outputs": [],
   "source": [
    "overall = datos[['Overall']].to_numpy()\n",
    "valor = datos[['Valor']].to_numpy()"
   ]
  },
  {
   "cell_type": "markdown",
   "metadata": {},
   "source": [
    "Ahora que se tiene la variable independiente overall y la variable dependiente valor, el siguiente paso es dividir estos datos en conjuntos de entrenamiento y prueba o validación.\n",
    "\n",
    "Se utiiza el método train_test_split() que forma parte de la librería Scikit-Learn.\n",
    "\n",
    "El argumento test_size establece el 30% para datos de validación por lo que el 70% pertenece a los datos de entrenamiento"
   ]
  },
  {
   "cell_type": "code",
   "execution_count": 21,
   "metadata": {},
   "outputs": [
    {
     "data": {
      "text/plain": [
       "array([[54],\n",
       "       [63],\n",
       "       [64],\n",
       "       ...,\n",
       "       [70],\n",
       "       [56],\n",
       "       [76]])"
      ]
     },
     "execution_count": 21,
     "metadata": {},
     "output_type": "execute_result"
    }
   ],
   "source": [
    "overall_train, overall_test, valor_train, valor_test = train_test_split(overall, valor, test_size=0.3, random_state=2022)\n",
    "overall_train"
   ]
  },
  {
   "cell_type": "markdown",
   "metadata": {},
   "source": [
    "## Modelos de regresión\n",
    "## Modelo de Regresión Lineal Simple"
   ]
  },
  {
   "cell_type": "code",
   "execution_count": 22,
   "metadata": {},
   "outputs": [
    {
     "name": "stdout",
     "output_type": "stream",
     "text": [
      "Valor de a:  [-31408538.06038874]\n",
      "Valor de b;  [[511065.12258972]]\n"
     ]
    }
   ],
   "source": [
    "modelo_ls = LinearRegression()\n",
    "modelo_ls.fit(overall_train, valor_train)\n",
    "\n",
    "a = modelo_ls.intercept_\n",
    "b = modelo_ls.coef_\n",
    "\n",
    "print(\"Valor de a: \", a)\n",
    "print(\"Valor de b; \", b)"
   ]
  },
  {
   "cell_type": "markdown",
   "metadata": {},
   "source": [
    "## Linea de tendencia del modelo\n",
    "Con la el valor de los valores de tendencia o valores ajustados del modelo se visualiza la recta de tendencia del modelo.\n",
    "\n",
    "La gráfica g se construye por partes, primero la dispersión, segundo la linea de tendencia, tercero se agrega el título, para luego solo mostrar la gráfica g."
   ]
  },
  {
   "cell_type": "code",
   "execution_count": 23,
   "metadata": {},
   "outputs": [
    {
     "data": {
      "text/plain": [
       "[<matplotlib.lines.Line2D at 0x133040f70>]"
      ]
     },
     "execution_count": 23,
     "metadata": {},
     "output_type": "execute_result"
    },
    {
     "data": {
      "image/png": "[encoded data removed]",
      "text/plain": [
       "<Figure size 640x480 with 1 Axes>"
      ]
     },
     "metadata": {},
     "output_type": "display_data"
    }
   ],
   "source": [
    "linea_tendencia = modelo_ls.predict(overall_train)\n",
    "plt.plot(overall_train, valor_train, 'o', color= 'blue')\n",
    "plt.plot(overall_train, linea_tendencia, color=\"red\")"
   ]
  },
  {
   "cell_type": "markdown",
   "metadata": {},
   "source": [
    "Se observa visualmente que la linea recta no es precisamente el mejor modelo para realizar predicciones.\n",
    "\n",
    "## Predicciones\n",
    "\n",
    "Las predicciones se hacen con el conjunto de datos de validación."
   ]
  },
  {
   "cell_type": "code",
   "execution_count": 24,
   "metadata": {},
   "outputs": [
    {
     "data": {
      "text/plain": [
       "array([[-1766760.95018518],\n",
       "       [ 6410281.01125029],\n",
       "       [ 5388150.76607085],\n",
       "       ...,\n",
       "       [ 9476671.74678858],\n",
       "       [ -233565.58241603],\n",
       "       [ 4366020.52089142]])"
      ]
     },
     "execution_count": 24,
     "metadata": {},
     "output_type": "execute_result"
    }
   ],
   "source": [
    "predicciones = modelo_ls.predict(overall_test)\n",
    "predicciones"
   ]
  },
  {
   "cell_type": "markdown",
   "metadata": {},
   "source": [
    "## Determinando métricas\n",
    "Crear un data.frame llamado comparaciones a partir de la creación de un diccionario con los valores reales del conjunto de entrenamiento y las predicciones calculadas.\n",
    "\n",
    "Con la función flatten().tolist() convierte el arreglo a una lista de una dimensión."
   ]
  },
  {
   "cell_type": "code",
   "execution_count": 25,
   "metadata": {},
   "outputs": [
    {
     "data": {
      "text/html": [
       "<div>\n",
       "<style scoped>\n",
       "    .dataframe tbody tr th:only-of-type {\n",
       "        vertical-align: middle;\n",
       "    }\n",
       "\n",
       "    .dataframe tbody tr th {\n",
       "        vertical-align: top;\n",
       "    }\n",
       "\n",
       "    .dataframe thead th {\n",
       "        text-align: right;\n",
       "    }\n",
       "</style>\n",
       "<table border=\"1\" class=\"dataframe\">\n",
       "  <thead>\n",
       "    <tr style=\"text-align: right;\">\n",
       "      <th></th>\n",
       "      <th>Overall</th>\n",
       "      <th>Real</th>\n",
       "      <th>Predicho</th>\n",
       "    </tr>\n",
       "  </thead>\n",
       "  <tbody>\n",
       "    <tr>\n",
       "      <th>0</th>\n",
       "      <td>58</td>\n",
       "      <td>270000</td>\n",
       "      <td>-1.766761e+06</td>\n",
       "    </tr>\n",
       "    <tr>\n",
       "      <th>1</th>\n",
       "      <td>74</td>\n",
       "      <td>7500000</td>\n",
       "      <td>6.410281e+06</td>\n",
       "    </tr>\n",
       "    <tr>\n",
       "      <th>2</th>\n",
       "      <td>72</td>\n",
       "      <td>1600000</td>\n",
       "      <td>5.388151e+06</td>\n",
       "    </tr>\n",
       "    <tr>\n",
       "      <th>3</th>\n",
       "      <td>61</td>\n",
       "      <td>240000</td>\n",
       "      <td>-2.335656e+05</td>\n",
       "    </tr>\n",
       "    <tr>\n",
       "      <th>4</th>\n",
       "      <td>67</td>\n",
       "      <td>750000</td>\n",
       "      <td>2.832825e+06</td>\n",
       "    </tr>\n",
       "    <tr>\n",
       "      <th>...</th>\n",
       "      <td>...</td>\n",
       "      <td>...</td>\n",
       "      <td>...</td>\n",
       "    </tr>\n",
       "    <tr>\n",
       "      <th>5368</th>\n",
       "      <td>64</td>\n",
       "      <td>675000</td>\n",
       "      <td>1.299630e+06</td>\n",
       "    </tr>\n",
       "    <tr>\n",
       "      <th>5369</th>\n",
       "      <td>62</td>\n",
       "      <td>400000</td>\n",
       "      <td>2.774995e+05</td>\n",
       "    </tr>\n",
       "    <tr>\n",
       "      <th>5370</th>\n",
       "      <td>80</td>\n",
       "      <td>6000000</td>\n",
       "      <td>9.476672e+06</td>\n",
       "    </tr>\n",
       "    <tr>\n",
       "      <th>5371</th>\n",
       "      <td>61</td>\n",
       "      <td>290000</td>\n",
       "      <td>-2.335656e+05</td>\n",
       "    </tr>\n",
       "    <tr>\n",
       "      <th>5372</th>\n",
       "      <td>70</td>\n",
       "      <td>3000000</td>\n",
       "      <td>4.366021e+06</td>\n",
       "    </tr>\n",
       "  </tbody>\n",
       "</table>\n",
       "<p>5373 rows × 3 columns</p>\n",
       "</div>"
      ],
      "text/plain": [
       "      Overall     Real      Predicho\n",
       "0          58   270000 -1.766761e+06\n",
       "1          74  7500000  6.410281e+06\n",
       "2          72  1600000  5.388151e+06\n",
       "3          61   240000 -2.335656e+05\n",
       "4          67   750000  2.832825e+06\n",
       "...       ...      ...           ...\n",
       "5368       64   675000  1.299630e+06\n",
       "5369       62   400000  2.774995e+05\n",
       "5370       80  6000000  9.476672e+06\n",
       "5371       61   290000 -2.335656e+05\n",
       "5372       70  3000000  4.366021e+06\n",
       "\n",
       "[5373 rows x 3 columns]"
      ]
     },
     "execution_count": 25,
     "metadata": {},
     "output_type": "execute_result"
    }
   ],
   "source": [
    "diccionario = {'Overall': overall_test .flatten().tolist(),\n",
    "                'Real' : valor_test.flatten().tolist(), \n",
    "               'Predicho' : predicciones.flatten().tolist()}\n",
    "diccionario\n",
    "\n",
    "comparaciones = pd.DataFrame(diccionario)\n",
    "comparaciones"
   ]
  },
  {
   "cell_type": "markdown",
   "metadata": {},
   "source": [
    "¡Salen predicciones negativas!, ¿que significa? , no debiera haber predicciones negativas, sin embargo, esto sucede porque el modelo así lo calcula por lo estricto de la linea de recta de tendencia.\n",
    "\n",
    "## R Square\n",
    "Es el valor de la correlación al cuadrado de las predicciones y los valores reales.Se interpreta como la representación que tienen la variable indeéndiente sobre la variabel dependinte. En este caso, que tanto Overall representa a Valor en los datos.\n",
    "\n",
    "R2 es el coeficiente de determinación, y tiene que ver con la capacidad de un modelo para predecir futuros resultados"
   ]
  },
  {
   "cell_type": "code",
   "execution_count": 26,
   "metadata": {},
   "outputs": [
    {
     "name": "stdout",
     "output_type": "stream",
     "text": [
      "R Square : 0.3831\n",
      "R Square : 0.382993553705126\n"
     ]
    }
   ],
   "source": [
    "r = np.corrcoef(comparaciones['Real'], comparaciones['Predicho'])\n",
    "r = r ** 2\n",
    "r = r.reshape(-1,2)\n",
    "r = r[0, 1]\n",
    "print('R Square :', np.round(r, 4) )\n",
    "\n",
    "print('R Square :', r2_score(comparaciones['Real'], comparaciones['Predicho'] ))"
   ]
  },
  {
   "cell_type": "markdown",
   "metadata": {},
   "source": [
    "El valor de R Square es por debajo del 40% por lo que no sobrepasa el 50% como critero, por lo cual, por este criterio el modelo NO SE ACEPTA.\n",
    "\n",
    "<math xmlns=\"http://www.w3.org/1998/Math/MathML\" display=\"block\">\n",
    "  <mi>r</mi>\n",
    "  <mi>m</mi>\n",
    "  <mi>s</mi>\n",
    "  <mi>e</mi>\n",
    "  <mo>=</mo>\n",
    "  <msqrt>\n",
    "    <mfrac>\n",
    "      <mrow>\n",
    "        <mo data-mjx-texclass=\"OP\">&#x2211;</mo>\n",
    "        <mo stretchy=\"false\">(</mo>\n",
    "        <mi>p</mi>\n",
    "        <mi>r</mi>\n",
    "        <mi>e</mi>\n",
    "        <mi>d</mi>\n",
    "        <mi>i</mi>\n",
    "        <mi>c</mi>\n",
    "        <mi>h</mi>\n",
    "        <msub>\n",
    "          <mi>o</mi>\n",
    "          <mi>i</mi>\n",
    "        </msub>\n",
    "        <mo>&#x2212;</mo>\n",
    "        <mi>r</mi>\n",
    "        <mi>e</mi>\n",
    "        <mi>a</mi>\n",
    "        <msub>\n",
    "          <mi>l</mi>\n",
    "          <mi>i</mi>\n",
    "        </msub>\n",
    "        <msup>\n",
    "          <mo stretchy=\"false\">)</mo>\n",
    "          <mrow data-mjx-texclass=\"ORD\">\n",
    "            <mn>2</mn>\n",
    "          </mrow>\n",
    "        </msup>\n",
    "      </mrow>\n",
    "      <mi>n</mi>\n",
    "    </mfrac>\n",
    "  </msqrt>\n",
    "</math>"
   ]
  },
  {
   "cell_type": "code",
   "execution_count": 27,
   "metadata": {},
   "outputs": [
    {
     "name": "stdout",
     "output_type": "stream",
     "text": [
      "Mean Squared Error: MSE 20862415870369.5\n",
      "Root Mean Squared Error RMSE: 4567539.367139543\n"
     ]
    }
   ],
   "source": [
    "print('Mean Squared Error: MSE', metrics.mean_squared_error(valor_test, predicciones))\n",
    "print('Root Mean Squared Error RMSE:', np.sqrt(metrics.mean_squared_error(valor_test, predicciones)))"
   ]
  },
  {
   "cell_type": "markdown",
   "metadata": {},
   "source": [
    "## Modelo de Regresión Polinomial de segundo nivel\n",
    "Desde Sklearn con PolynomialFeatures, se crea un objeto polinómico de segundo nivel. Se crea otro objeto de X_poly a partir de los datos de entrenamiento y finalmente se cra el modelo polinómico de segundo nivel."
   ]
  },
  {
   "cell_type": "code",
   "execution_count": 28,
   "metadata": {},
   "outputs": [
    {
     "data": {
      "text/html": [
       "<style>#sk-container-id-1 {color: black;background-color: white;}#sk-container-id-1 pre{padding: 0;}#sk-container-id-1 div.sk-toggleable {background-color: white;}#sk-container-id-1 label.sk-toggleable__label {cursor: pointer;display: block;width: 100%;margin-bottom: 0;padding: 0.3em;box-sizing: border-box;text-align: center;}#sk-container-id-1 label.sk-toggleable__label-arrow:before {content: \"▸\";float: left;margin-right: 0.25em;color: #696969;}#sk-container-id-1 label.sk-toggleable__label-arrow:hover:before {color: black;}#sk-container-id-1 div.sk-estimator:hover label.sk-toggleable__label-arrow:before {color: black;}#sk-container-id-1 div.sk-toggleable__content {max-height: 0;max-width: 0;overflow: hidden;text-align: left;background-color: #f0f8ff;}#sk-container-id-1 div.sk-toggleable__content pre {margin: 0.2em;color: black;border-radius: 0.25em;background-color: #f0f8ff;}#sk-container-id-1 input.sk-toggleable__control:checked~div.sk-toggleable__content {max-height: 200px;max-width: 100%;overflow: auto;}#sk-container-id-1 input.sk-toggleable__control:checked~label.sk-toggleable__label-arrow:before {content: \"▾\";}#sk-container-id-1 div.sk-estimator input.sk-toggleable__control:checked~label.sk-toggleable__label {background-color: #d4ebff;}#sk-container-id-1 div.sk-label input.sk-toggleable__control:checked~label.sk-toggleable__label {background-color: #d4ebff;}#sk-container-id-1 input.sk-hidden--visually {border: 0;clip: rect(1px 1px 1px 1px);clip: rect(1px, 1px, 1px, 1px);height: 1px;margin: -1px;overflow: hidden;padding: 0;position: absolute;width: 1px;}#sk-container-id-1 div.sk-estimator {font-family: monospace;background-color: #f0f8ff;border: 1px dotted black;border-radius: 0.25em;box-sizing: border-box;margin-bottom: 0.5em;}#sk-container-id-1 div.sk-estimator:hover {background-color: #d4ebff;}#sk-container-id-1 div.sk-parallel-item::after {content: \"\";width: 100%;border-bottom: 1px solid gray;flex-grow: 1;}#sk-container-id-1 div.sk-label:hover label.sk-toggleable__label {background-color: #d4ebff;}#sk-container-id-1 div.sk-serial::before {content: \"\";position: absolute;border-left: 1px solid gray;box-sizing: border-box;top: 0;bottom: 0;left: 50%;z-index: 0;}#sk-container-id-1 div.sk-serial {display: flex;flex-direction: column;align-items: center;background-color: white;padding-right: 0.2em;padding-left: 0.2em;position: relative;}#sk-container-id-1 div.sk-item {position: relative;z-index: 1;}#sk-container-id-1 div.sk-parallel {display: flex;align-items: stretch;justify-content: center;background-color: white;position: relative;}#sk-container-id-1 div.sk-item::before, #sk-container-id-1 div.sk-parallel-item::before {content: \"\";position: absolute;border-left: 1px solid gray;box-sizing: border-box;top: 0;bottom: 0;left: 50%;z-index: -1;}#sk-container-id-1 div.sk-parallel-item {display: flex;flex-direction: column;z-index: 1;position: relative;background-color: white;}#sk-container-id-1 div.sk-parallel-item:first-child::after {align-self: flex-end;width: 50%;}#sk-container-id-1 div.sk-parallel-item:last-child::after {align-self: flex-start;width: 50%;}#sk-container-id-1 div.sk-parallel-item:only-child::after {width: 0;}#sk-container-id-1 div.sk-dashed-wrapped {border: 1px dashed gray;margin: 0 0.4em 0.5em 0.4em;box-sizing: border-box;padding-bottom: 0.4em;background-color: white;}#sk-container-id-1 div.sk-label label {font-family: monospace;font-weight: bold;display: inline-block;line-height: 1.2em;}#sk-container-id-1 div.sk-label-container {text-align: center;}#sk-container-id-1 div.sk-container {/* jupyter's `normalize.less` sets `[hidden] { display: none; }` but bootstrap.min.css set `[hidden] { display: none !important; }` so we also need the `!important` here to be able to override the default hidden behavior on the sphinx rendered scikit-learn.org. See: https://github.com/scikit-learn/scikit-learn/issues/21755 */display: inline-block !important;position: relative;}#sk-container-id-1 div.sk-text-repr-fallback {display: none;}</style><div id=\"sk-container-id-1\" class=\"sk-top-container\"><div class=\"sk-text-repr-fallback\"><pre>LinearRegression()</pre><b>In a Jupyter environment, please rerun this cell to show the HTML representation or trust the notebook. <br />On GitHub, the HTML representation is unable to render, please try loading this page with nbviewer.org.</b></div><div class=\"sk-container\" hidden><div class=\"sk-item\"><div class=\"sk-estimator sk-toggleable\"><input class=\"sk-toggleable__control sk-hidden--visually\" id=\"sk-estimator-id-1\" type=\"checkbox\" checked><label for=\"sk-estimator-id-1\" class=\"sk-toggleable__label sk-toggleable__label-arrow\">LinearRegression</label><div class=\"sk-toggleable__content\"><pre>LinearRegression()</pre></div></div></div></div></div>"
      ],
      "text/plain": [
       "LinearRegression()"
      ]
     },
     "execution_count": 28,
     "metadata": {},
     "output_type": "execute_result"
    }
   ],
   "source": [
    "from sklearn.preprocessing import PolynomialFeatures\n",
    "poly_reg =  PolynomialFeatures(degree = 2)\n",
    "overall_poly = poly_reg.fit_transform(overall_train)\n",
    "modelo_poly2 = LinearRegression()\n",
    "modelo_poly2.fit(overall_poly, valor_train)"
   ]
  },
  {
   "cell_type": "code",
   "execution_count": 29,
   "metadata": {},
   "outputs": [
    {
     "data": {
      "image/png": "[encoded data removed]",
      "text/plain": [
       "<Figure size 640x480 with 1 Axes>"
      ]
     },
     "metadata": {},
     "output_type": "display_data"
    }
   ],
   "source": [
    "curva_tendencia = modelo_poly2.predict(poly_reg.fit_transform(overall_train))\n",
    "plt.scatter(overall_train, valor_train, color = 'b', )\n",
    "plt.scatter(overall_train, curva_tendencia, color='r', linestyle = 'solid')\n",
    "plt.show()"
   ]
  },
  {
   "cell_type": "markdown",
   "metadata": {},
   "source": [
    "## Predicciones"
   ]
  },
  {
   "cell_type": "code",
   "execution_count": 30,
   "metadata": {},
   "outputs": [
    {
     "data": {
      "text/html": [
       "<div>\n",
       "<style scoped>\n",
       "    .dataframe tbody tr th:only-of-type {\n",
       "        vertical-align: middle;\n",
       "    }\n",
       "\n",
       "    .dataframe tbody tr th {\n",
       "        vertical-align: top;\n",
       "    }\n",
       "\n",
       "    .dataframe thead th {\n",
       "        text-align: right;\n",
       "    }\n",
       "</style>\n",
       "<table border=\"1\" class=\"dataframe\">\n",
       "  <thead>\n",
       "    <tr style=\"text-align: right;\">\n",
       "      <th></th>\n",
       "      <th>Overall</th>\n",
       "      <th>Real</th>\n",
       "      <th>Predicho</th>\n",
       "    </tr>\n",
       "  </thead>\n",
       "  <tbody>\n",
       "    <tr>\n",
       "      <th>0</th>\n",
       "      <td>58</td>\n",
       "      <td>270000</td>\n",
       "      <td>-1.766761e+06</td>\n",
       "    </tr>\n",
       "    <tr>\n",
       "      <th>1</th>\n",
       "      <td>74</td>\n",
       "      <td>7500000</td>\n",
       "      <td>6.410281e+06</td>\n",
       "    </tr>\n",
       "    <tr>\n",
       "      <th>2</th>\n",
       "      <td>72</td>\n",
       "      <td>1600000</td>\n",
       "      <td>5.388151e+06</td>\n",
       "    </tr>\n",
       "    <tr>\n",
       "      <th>3</th>\n",
       "      <td>61</td>\n",
       "      <td>240000</td>\n",
       "      <td>-2.335656e+05</td>\n",
       "    </tr>\n",
       "    <tr>\n",
       "      <th>4</th>\n",
       "      <td>67</td>\n",
       "      <td>750000</td>\n",
       "      <td>2.832825e+06</td>\n",
       "    </tr>\n",
       "    <tr>\n",
       "      <th>5</th>\n",
       "      <td>74</td>\n",
       "      <td>4800000</td>\n",
       "      <td>6.410281e+06</td>\n",
       "    </tr>\n",
       "    <tr>\n",
       "      <th>6</th>\n",
       "      <td>55</td>\n",
       "      <td>120000</td>\n",
       "      <td>-3.299956e+06</td>\n",
       "    </tr>\n",
       "    <tr>\n",
       "      <th>7</th>\n",
       "      <td>56</td>\n",
       "      <td>190000</td>\n",
       "      <td>-2.788891e+06</td>\n",
       "    </tr>\n",
       "    <tr>\n",
       "      <th>8</th>\n",
       "      <td>63</td>\n",
       "      <td>375000</td>\n",
       "      <td>7.885647e+05</td>\n",
       "    </tr>\n",
       "    <tr>\n",
       "      <th>9</th>\n",
       "      <td>64</td>\n",
       "      <td>475000</td>\n",
       "      <td>1.299630e+06</td>\n",
       "    </tr>\n",
       "    <tr>\n",
       "      <th>10</th>\n",
       "      <td>58</td>\n",
       "      <td>240000</td>\n",
       "      <td>-1.766761e+06</td>\n",
       "    </tr>\n",
       "    <tr>\n",
       "      <th>11</th>\n",
       "      <td>64</td>\n",
       "      <td>325000</td>\n",
       "      <td>1.299630e+06</td>\n",
       "    </tr>\n",
       "    <tr>\n",
       "      <th>12</th>\n",
       "      <td>63</td>\n",
       "      <td>260000</td>\n",
       "      <td>7.885647e+05</td>\n",
       "    </tr>\n",
       "    <tr>\n",
       "      <th>13</th>\n",
       "      <td>67</td>\n",
       "      <td>1000000</td>\n",
       "      <td>2.832825e+06</td>\n",
       "    </tr>\n",
       "    <tr>\n",
       "      <th>14</th>\n",
       "      <td>60</td>\n",
       "      <td>325000</td>\n",
       "      <td>-7.446307e+05</td>\n",
       "    </tr>\n",
       "    <tr>\n",
       "      <th>15</th>\n",
       "      <td>77</td>\n",
       "      <td>12500000</td>\n",
       "      <td>7.943476e+06</td>\n",
       "    </tr>\n",
       "    <tr>\n",
       "      <th>16</th>\n",
       "      <td>52</td>\n",
       "      <td>90000</td>\n",
       "      <td>-4.833152e+06</td>\n",
       "    </tr>\n",
       "    <tr>\n",
       "      <th>17</th>\n",
       "      <td>64</td>\n",
       "      <td>400000</td>\n",
       "      <td>1.299630e+06</td>\n",
       "    </tr>\n",
       "    <tr>\n",
       "      <th>18</th>\n",
       "      <td>69</td>\n",
       "      <td>1100000</td>\n",
       "      <td>3.854955e+06</td>\n",
       "    </tr>\n",
       "    <tr>\n",
       "      <th>19</th>\n",
       "      <td>74</td>\n",
       "      <td>4900000</td>\n",
       "      <td>6.410281e+06</td>\n",
       "    </tr>\n",
       "  </tbody>\n",
       "</table>\n",
       "</div>"
      ],
      "text/plain": [
       "    Overall      Real      Predicho\n",
       "0        58    270000 -1.766761e+06\n",
       "1        74   7500000  6.410281e+06\n",
       "2        72   1600000  5.388151e+06\n",
       "3        61    240000 -2.335656e+05\n",
       "4        67    750000  2.832825e+06\n",
       "5        74   4800000  6.410281e+06\n",
       "6        55    120000 -3.299956e+06\n",
       "7        56    190000 -2.788891e+06\n",
       "8        63    375000  7.885647e+05\n",
       "9        64    475000  1.299630e+06\n",
       "10       58    240000 -1.766761e+06\n",
       "11       64    325000  1.299630e+06\n",
       "12       63    260000  7.885647e+05\n",
       "13       67   1000000  2.832825e+06\n",
       "14       60    325000 -7.446307e+05\n",
       "15       77  12500000  7.943476e+06\n",
       "16       52     90000 -4.833152e+06\n",
       "17       64    400000  1.299630e+06\n",
       "18       69   1100000  3.854955e+06\n",
       "19       74   4900000  6.410281e+06"
      ]
     },
     "execution_count": 30,
     "metadata": {},
     "output_type": "execute_result"
    }
   ],
   "source": [
    "diccionario = {'Overall': overall_test.flatten().tolist(),\n",
    "                'Real' : valor_test.flatten().tolist(), \n",
    "               'Predicho' : predicciones.flatten().tolist()}\n",
    "diccionario\n",
    "\n",
    "comparaciones = pd.DataFrame(diccionario)\n",
    "comparaciones.head(20)"
   ]
  },
  {
   "cell_type": "code",
   "execution_count": 31,
   "metadata": {},
   "outputs": [
    {
     "name": "stdout",
     "output_type": "stream",
     "text": [
      "R Square : 0.3831\n",
      "R Square : 0.382993553705126\n"
     ]
    }
   ],
   "source": [
    "r = np.corrcoef(comparaciones['Real'], comparaciones['Predicho'])\n",
    "r = r ** 2\n",
    "r = r.reshape(-1,2)\n",
    "r = r[0, 1]\n",
    "print('R Square :', np.round(r, 4) )\n",
    "\n",
    "print('R Square :', r2_score(comparaciones['Real'], comparaciones['Predicho'] ))"
   ]
  },
  {
   "cell_type": "markdown",
   "metadata": {},
   "source": [
    "Como el valor de R Square está por encima del 50% el modelo ¡ SE ACEPTA!"
   ]
  },
  {
   "cell_type": "code",
   "execution_count": 32,
   "metadata": {},
   "outputs": [
    {
     "name": "stdout",
     "output_type": "stream",
     "text": [
      "Mean Squared Error: MSE 20862415870369.5\n",
      "Root Mean Squared Error RMSE: 4567539.367139543\n"
     ]
    }
   ],
   "source": [
    "print('Mean Squared Error: MSE', metrics.mean_squared_error(valor_test, predicciones))\n",
    "print('Root Mean Squared Error RMSE:', np.sqrt(metrics.mean_squared_error(valor_test, predicciones)))"
   ]
  },
  {
   "cell_type": "markdown",
   "metadata": {},
   "source": [
    "El valor de rmse está por encima los 2,000,000 (dos millones) por lo que de acuerdo a la métrica inicial establecida el modelo polinomial de segunda potencia *¡NO SE ACEPTA!*\n",
    "\n",
    "## Modelo de Regresión Polinomial de segundo nivel"
   ]
  },
  {
   "cell_type": "code",
   "execution_count": 33,
   "metadata": {},
   "outputs": [
    {
     "data": {
      "text/html": [
       "<style>#sk-container-id-2 {color: black;background-color: white;}#sk-container-id-2 pre{padding: 0;}#sk-container-id-2 div.sk-toggleable {background-color: white;}#sk-container-id-2 label.sk-toggleable__label {cursor: pointer;display: block;width: 100%;margin-bottom: 0;padding: 0.3em;box-sizing: border-box;text-align: center;}#sk-container-id-2 label.sk-toggleable__label-arrow:before {content: \"▸\";float: left;margin-right: 0.25em;color: #696969;}#sk-container-id-2 label.sk-toggleable__label-arrow:hover:before {color: black;}#sk-container-id-2 div.sk-estimator:hover label.sk-toggleable__label-arrow:before {color: black;}#sk-container-id-2 div.sk-toggleable__content {max-height: 0;max-width: 0;overflow: hidden;text-align: left;background-color: #f0f8ff;}#sk-container-id-2 div.sk-toggleable__content pre {margin: 0.2em;color: black;border-radius: 0.25em;background-color: #f0f8ff;}#sk-container-id-2 input.sk-toggleable__control:checked~div.sk-toggleable__content {max-height: 200px;max-width: 100%;overflow: auto;}#sk-container-id-2 input.sk-toggleable__control:checked~label.sk-toggleable__label-arrow:before {content: \"▾\";}#sk-container-id-2 div.sk-estimator input.sk-toggleable__control:checked~label.sk-toggleable__label {background-color: #d4ebff;}#sk-container-id-2 div.sk-label input.sk-toggleable__control:checked~label.sk-toggleable__label {background-color: #d4ebff;}#sk-container-id-2 input.sk-hidden--visually {border: 0;clip: rect(1px 1px 1px 1px);clip: rect(1px, 1px, 1px, 1px);height: 1px;margin: -1px;overflow: hidden;padding: 0;position: absolute;width: 1px;}#sk-container-id-2 div.sk-estimator {font-family: monospace;background-color: #f0f8ff;border: 1px dotted black;border-radius: 0.25em;box-sizing: border-box;margin-bottom: 0.5em;}#sk-container-id-2 div.sk-estimator:hover {background-color: #d4ebff;}#sk-container-id-2 div.sk-parallel-item::after {content: \"\";width: 100%;border-bottom: 1px solid gray;flex-grow: 1;}#sk-container-id-2 div.sk-label:hover label.sk-toggleable__label {background-color: #d4ebff;}#sk-container-id-2 div.sk-serial::before {content: \"\";position: absolute;border-left: 1px solid gray;box-sizing: border-box;top: 0;bottom: 0;left: 50%;z-index: 0;}#sk-container-id-2 div.sk-serial {display: flex;flex-direction: column;align-items: center;background-color: white;padding-right: 0.2em;padding-left: 0.2em;position: relative;}#sk-container-id-2 div.sk-item {position: relative;z-index: 1;}#sk-container-id-2 div.sk-parallel {display: flex;align-items: stretch;justify-content: center;background-color: white;position: relative;}#sk-container-id-2 div.sk-item::before, #sk-container-id-2 div.sk-parallel-item::before {content: \"\";position: absolute;border-left: 1px solid gray;box-sizing: border-box;top: 0;bottom: 0;left: 50%;z-index: -1;}#sk-container-id-2 div.sk-parallel-item {display: flex;flex-direction: column;z-index: 1;position: relative;background-color: white;}#sk-container-id-2 div.sk-parallel-item:first-child::after {align-self: flex-end;width: 50%;}#sk-container-id-2 div.sk-parallel-item:last-child::after {align-self: flex-start;width: 50%;}#sk-container-id-2 div.sk-parallel-item:only-child::after {width: 0;}#sk-container-id-2 div.sk-dashed-wrapped {border: 1px dashed gray;margin: 0 0.4em 0.5em 0.4em;box-sizing: border-box;padding-bottom: 0.4em;background-color: white;}#sk-container-id-2 div.sk-label label {font-family: monospace;font-weight: bold;display: inline-block;line-height: 1.2em;}#sk-container-id-2 div.sk-label-container {text-align: center;}#sk-container-id-2 div.sk-container {/* jupyter's `normalize.less` sets `[hidden] { display: none; }` but bootstrap.min.css set `[hidden] { display: none !important; }` so we also need the `!important` here to be able to override the default hidden behavior on the sphinx rendered scikit-learn.org. See: https://github.com/scikit-learn/scikit-learn/issues/21755 */display: inline-block !important;position: relative;}#sk-container-id-2 div.sk-text-repr-fallback {display: none;}</style><div id=\"sk-container-id-2\" class=\"sk-top-container\"><div class=\"sk-text-repr-fallback\"><pre>LinearRegression()</pre><b>In a Jupyter environment, please rerun this cell to show the HTML representation or trust the notebook. <br />On GitHub, the HTML representation is unable to render, please try loading this page with nbviewer.org.</b></div><div class=\"sk-container\" hidden><div class=\"sk-item\"><div class=\"sk-estimator sk-toggleable\"><input class=\"sk-toggleable__control sk-hidden--visually\" id=\"sk-estimator-id-2\" type=\"checkbox\" checked><label for=\"sk-estimator-id-2\" class=\"sk-toggleable__label sk-toggleable__label-arrow\">LinearRegression</label><div class=\"sk-toggleable__content\"><pre>LinearRegression()</pre></div></div></div></div></div>"
      ],
      "text/plain": [
       "LinearRegression()"
      ]
     },
     "execution_count": 33,
     "metadata": {},
     "output_type": "execute_result"
    }
   ],
   "source": [
    "poly_reg =  PolynomialFeatures(degree = 5)\n",
    "overall_poly = poly_reg.fit_transform(overall_train)\n",
    "modelo_poly5 = LinearRegression()\n",
    "modelo_poly5.fit(overall_poly, valor_train)"
   ]
  },
  {
   "cell_type": "code",
   "execution_count": 34,
   "metadata": {},
   "outputs": [
    {
     "data": {
      "image/png": "[encoded data removed]",
      "text/plain": [
       "<Figure size 640x480 with 1 Axes>"
      ]
     },
     "metadata": {},
     "output_type": "display_data"
    }
   ],
   "source": [
    "curva_tendencia = modelo_poly5.predict(poly_reg.fit_transform(overall_train))\n",
    "plt.scatter(overall_train, valor_train, color = 'b', )\n",
    "plt.scatter(overall_train, curva_tendencia, color='r', linestyle = 'solid')\n",
    "plt.show()"
   ]
  },
  {
   "cell_type": "code",
   "execution_count": 35,
   "metadata": {},
   "outputs": [
    {
     "data": {
      "text/plain": [
       "array([[  244132.28601575],\n",
       "       [ 4806820.79338205],\n",
       "       [ 3018955.68622911],\n",
       "       ...,\n",
       "       [15593314.32806146],\n",
       "       [  325560.76055944],\n",
       "       [ 1833124.11292481]])"
      ]
     },
     "execution_count": 35,
     "metadata": {},
     "output_type": "execute_result"
    }
   ],
   "source": [
    "predicciones = modelo_poly5.predict(poly_reg.fit_transform(overall_test))\n",
    "predicciones"
   ]
  },
  {
   "cell_type": "code",
   "execution_count": 36,
   "metadata": {},
   "outputs": [
    {
     "data": {
      "text/html": [
       "<div>\n",
       "<style scoped>\n",
       "    .dataframe tbody tr th:only-of-type {\n",
       "        vertical-align: middle;\n",
       "    }\n",
       "\n",
       "    .dataframe tbody tr th {\n",
       "        vertical-align: top;\n",
       "    }\n",
       "\n",
       "    .dataframe thead th {\n",
       "        text-align: right;\n",
       "    }\n",
       "</style>\n",
       "<table border=\"1\" class=\"dataframe\">\n",
       "  <thead>\n",
       "    <tr style=\"text-align: right;\">\n",
       "      <th></th>\n",
       "      <th>Overall</th>\n",
       "      <th>Real</th>\n",
       "      <th>Predicho</th>\n",
       "    </tr>\n",
       "  </thead>\n",
       "  <tbody>\n",
       "    <tr>\n",
       "      <th>0</th>\n",
       "      <td>58</td>\n",
       "      <td>270000</td>\n",
       "      <td>2.441323e+05</td>\n",
       "    </tr>\n",
       "    <tr>\n",
       "      <th>1</th>\n",
       "      <td>74</td>\n",
       "      <td>7500000</td>\n",
       "      <td>4.806821e+06</td>\n",
       "    </tr>\n",
       "    <tr>\n",
       "      <th>2</th>\n",
       "      <td>72</td>\n",
       "      <td>1600000</td>\n",
       "      <td>3.018956e+06</td>\n",
       "    </tr>\n",
       "    <tr>\n",
       "      <th>3</th>\n",
       "      <td>61</td>\n",
       "      <td>240000</td>\n",
       "      <td>3.255608e+05</td>\n",
       "    </tr>\n",
       "    <tr>\n",
       "      <th>4</th>\n",
       "      <td>67</td>\n",
       "      <td>750000</td>\n",
       "      <td>8.540923e+05</td>\n",
       "    </tr>\n",
       "    <tr>\n",
       "      <th>5</th>\n",
       "      <td>74</td>\n",
       "      <td>4800000</td>\n",
       "      <td>4.806821e+06</td>\n",
       "    </tr>\n",
       "    <tr>\n",
       "      <th>6</th>\n",
       "      <td>55</td>\n",
       "      <td>120000</td>\n",
       "      <td>1.272542e+05</td>\n",
       "    </tr>\n",
       "    <tr>\n",
       "      <th>7</th>\n",
       "      <td>56</td>\n",
       "      <td>190000</td>\n",
       "      <td>1.703893e+05</td>\n",
       "    </tr>\n",
       "    <tr>\n",
       "      <th>8</th>\n",
       "      <td>63</td>\n",
       "      <td>375000</td>\n",
       "      <td>3.984337e+05</td>\n",
       "    </tr>\n",
       "    <tr>\n",
       "      <th>9</th>\n",
       "      <td>64</td>\n",
       "      <td>475000</td>\n",
       "      <td>4.592915e+05</td>\n",
       "    </tr>\n",
       "    <tr>\n",
       "      <th>10</th>\n",
       "      <td>58</td>\n",
       "      <td>240000</td>\n",
       "      <td>2.441323e+05</td>\n",
       "    </tr>\n",
       "    <tr>\n",
       "      <th>11</th>\n",
       "      <td>64</td>\n",
       "      <td>325000</td>\n",
       "      <td>4.592915e+05</td>\n",
       "    </tr>\n",
       "    <tr>\n",
       "      <th>12</th>\n",
       "      <td>63</td>\n",
       "      <td>260000</td>\n",
       "      <td>3.984337e+05</td>\n",
       "    </tr>\n",
       "    <tr>\n",
       "      <th>13</th>\n",
       "      <td>67</td>\n",
       "      <td>1000000</td>\n",
       "      <td>8.540923e+05</td>\n",
       "    </tr>\n",
       "    <tr>\n",
       "      <th>14</th>\n",
       "      <td>60</td>\n",
       "      <td>325000</td>\n",
       "      <td>2.994936e+05</td>\n",
       "    </tr>\n",
       "    <tr>\n",
       "      <th>15</th>\n",
       "      <td>77</td>\n",
       "      <td>12500000</td>\n",
       "      <td>8.998777e+06</td>\n",
       "    </tr>\n",
       "    <tr>\n",
       "      <th>16</th>\n",
       "      <td>52</td>\n",
       "      <td>90000</td>\n",
       "      <td>1.481287e+04</td>\n",
       "    </tr>\n",
       "    <tr>\n",
       "      <th>17</th>\n",
       "      <td>64</td>\n",
       "      <td>400000</td>\n",
       "      <td>4.592915e+05</td>\n",
       "    </tr>\n",
       "    <tr>\n",
       "      <th>18</th>\n",
       "      <td>69</td>\n",
       "      <td>1100000</td>\n",
       "      <td>1.417410e+06</td>\n",
       "    </tr>\n",
       "    <tr>\n",
       "      <th>19</th>\n",
       "      <td>74</td>\n",
       "      <td>4900000</td>\n",
       "      <td>4.806821e+06</td>\n",
       "    </tr>\n",
       "  </tbody>\n",
       "</table>\n",
       "</div>"
      ],
      "text/plain": [
       "    Overall      Real      Predicho\n",
       "0        58    270000  2.441323e+05\n",
       "1        74   7500000  4.806821e+06\n",
       "2        72   1600000  3.018956e+06\n",
       "3        61    240000  3.255608e+05\n",
       "4        67    750000  8.540923e+05\n",
       "5        74   4800000  4.806821e+06\n",
       "6        55    120000  1.272542e+05\n",
       "7        56    190000  1.703893e+05\n",
       "8        63    375000  3.984337e+05\n",
       "9        64    475000  4.592915e+05\n",
       "10       58    240000  2.441323e+05\n",
       "11       64    325000  4.592915e+05\n",
       "12       63    260000  3.984337e+05\n",
       "13       67   1000000  8.540923e+05\n",
       "14       60    325000  2.994936e+05\n",
       "15       77  12500000  8.998777e+06\n",
       "16       52     90000  1.481287e+04\n",
       "17       64    400000  4.592915e+05\n",
       "18       69   1100000  1.417410e+06\n",
       "19       74   4900000  4.806821e+06"
      ]
     },
     "execution_count": 36,
     "metadata": {},
     "output_type": "execute_result"
    }
   ],
   "source": [
    "diccionario = {'Overall': overall_test.flatten().tolist(),\n",
    "                'Real' : valor_test.flatten().tolist(), \n",
    "               'Predicho' : predicciones.flatten().tolist()}\n",
    "diccionario\n",
    "\n",
    "comparaciones = pd.DataFrame(diccionario)\n",
    "comparaciones.head(20)"
   ]
  },
  {
   "cell_type": "code",
   "execution_count": 37,
   "metadata": {},
   "outputs": [
    {
     "name": "stdout",
     "output_type": "stream",
     "text": [
      "R Square : 0.8953\n",
      "R Square : 0.8930997577293718\n"
     ]
    }
   ],
   "source": [
    "# Con lo real vs predicciones\n",
    "r = np.corrcoef(comparaciones['Real'], comparaciones['Predicho'])\n",
    "r = r ** 2\n",
    "r = r.reshape(-1,2)\n",
    "r = r[0, 1]\n",
    "print('R Square :', np.round(r, 4) )\n",
    "\n",
    "# con r2_score([2, 5, 9], [3, 5, 11])\n",
    "print('R Square :', r2_score(comparaciones['Real'], comparaciones['Predicho'] ))"
   ]
  },
  {
   "cell_type": "code",
   "execution_count": 38,
   "metadata": {},
   "outputs": [
    {
     "name": "stdout",
     "output_type": "stream",
     "text": [
      "Mean Squared Error: MSE 3614544587476.262\n",
      "Root Mean Squared Error RMSE: 1901195.5679193716\n"
     ]
    }
   ],
   "source": [
    "print('Mean Squared Error: MSE', metrics.mean_squared_error(valor_test, predicciones))\n",
    "print('Root Mean Squared Error RMSE:', np.sqrt(metrics.mean_squared_error(valor_test, predicciones)))"
   ]
  },
  {
   "cell_type": "markdown",
   "metadata": {},
   "source": [
    "## Interpretación\n",
    "\n",
    "Se construyeron tres modelos de regresión lineal simple y polinómico para predecir el valor de un jugador de futbol. Se seleccionó el modelo de regresión polinómico de segundo nivel como el mejor modelo.\n"
   ]
  }
 ],
 "metadata": {
  "kernelspec": {
   "display_name": "Python 3.9.10 64-bit",
   "language": "python",
   "name": "python3"
  },
  "language_info": {
   "codemirror_mode": {
    "name": "ipython",
    "version": 3
   },
   "file_extension": ".py",
   "mimetype": "text/x-python",
   "name": "python",
   "nbconvert_exporter": "python",
   "pygments_lexer": "ipython3",
   "version": "3.9.10"
  },
  "orig_nbformat": 4,
  "vscode": {
   "interpreter": {
    "hash": "b0fa6594d8f4cbf19f97940f81e996739fb7646882a419484c72d19e05852a7e"
   }
  }
 },
 "nbformat": 4,
 "nbformat_minor": 2
}
