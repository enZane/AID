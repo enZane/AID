{
  "cells": [
    {
      "cell_type": "markdown",
      "metadata": {
        "id": "T8JRsdU5R6it"
      },
      "source": [
        "# Objectivo\n",
        "Explorar datos de un archivo csv por medio de librería pandas\n",
        "\n",
        "# Descripción\n",
        "Identificar una ruta WEB en donde se encuentra un archivo csv que contenga varias variables cpn lo cual se podrá importar con la función de read (lectura) que permitirá explorar sus datos.\n",
        "\n",
        "# Marco teórico\n",
        "La exploración de datos es un primer paso del análisis de datos que se utiliza para explorar y visualizar datos para descubrir conocimientos desde el mismo inicio o identificar áreas o patrones para profundizarlos más.\n",
        "\n",
        "\n",
        "# Desarrollo\n",
        "Va a contener varios elementos:\n",
        "\n",
        "- Cargar librerías\n",
        "- Cargar datos\n",
        "- Explorar datos\n",
        "- Visualizar datos\n",
        "\n",
        "# Cargar librerías\n"
      ]
    },
    {
      "cell_type": "code",
      "execution_count": null,
      "metadata": {
        "id": "zDVjHaoOR6ix"
      },
      "outputs": [],
      "source": [
        "import pandas as pd\n",
        "import matplotlib.pyplot as plt"
      ]
    },
    {
      "cell_type": "markdown",
      "metadata": {
        "id": "I0-tlTYsR6iz"
      },
      "source": [
        "# Cargar datos\n",
        "\n",
        "Los datos se encuentran en la URL: https://raw.githubusercontent.com/rpizarrog/Analisis-Inteligente-de-datos/main/datos/movies-db.csv\n",
        "\n"
      ]
    },
    {
      "cell_type": "code",
      "execution_count": null,
      "metadata": {
        "id": "_D-HKr2rR6iz"
      },
      "outputs": [],
      "source": [
        "datos = pd.read_csv(\"https://raw.githubusercontent.com/rpizarrog/Analisis-Inteligente-de-datos/main/datos/movies-db.csv\")\n",
        "datos"
      ]
    },
    {
      "cell_type": "markdown",
      "metadata": {
        "id": "mH1SqZpSR6iz"
      },
      "source": [
        "# Explorar datos\n",
        "\n",
        "## Head()\n",
        "Explorar los primeros registros con función head()"
      ]
    },
    {
      "cell_type": "code",
      "execution_count": null,
      "metadata": {
        "id": "5bPgy1z3R6i0"
      },
      "outputs": [],
      "source": [
        "datos.head(10)"
      ]
    },
    {
      "cell_type": "markdown",
      "metadata": {
        "id": "mBIuIT9WR6i0"
      },
      "source": [
        "## tail()\n",
        "Explorar los últimos registros"
      ]
    },
    {
      "cell_type": "code",
      "execution_count": null,
      "metadata": {
        "id": "x-a78wOtR6i1"
      },
      "outputs": [],
      "source": [
        "datos.tail(10)"
      ]
    },
    {
      "cell_type": "markdown",
      "metadata": {
        "id": "--1u8TdER6i2"
      },
      "source": [
        "## Tipo de dato\n",
        "Se identifica el tipo de datos que tiene la variable datos siendo un data.frame y cada variable de datos."
      ]
    },
    {
      "cell_type": "code",
      "execution_count": null,
      "metadata": {
        "id": "rNP4oqldR6i2"
      },
      "outputs": [],
      "source": [
        "type(datos)"
      ]
    },
    {
      "cell_type": "code",
      "execution_count": null,
      "metadata": {
        "id": "K_A2697lR6i3"
      },
      "outputs": [],
      "source": [
        "datos.dtypes"
      ]
    },
    {
      "cell_type": "markdown",
      "metadata": {
        "id": "OVI3d6Z8R6i3"
      },
      "source": [
        "## Descripción de los datos\n",
        "Se presenta valores estadístcos de los datos del archivo importado"
      ]
    },
    {
      "cell_type": "code",
      "execution_count": null,
      "metadata": {
        "id": "Il8DzZCeR6i3"
      },
      "outputs": [],
      "source": [
        "datos.describe()"
      ]
    },
    {
      "cell_type": "markdown",
      "metadata": {
        "id": "fSUBl6ocR6i3"
      },
      "source": [
        "## Estadísticos de variable de interés\n",
        "La variable de estudio es el rating de las películas"
      ]
    },
    {
      "cell_type": "code",
      "execution_count": null,
      "metadata": {
        "id": "gjCuXLoNR6i4"
      },
      "outputs": [],
      "source": [
        "print(\"average_rating\")\n",
        "print(\"Valor mínimo:\", datos['average_rating'].min())\n",
        "print(\"Valor máximo:\",datos['average_rating'].max())\n",
        "print(\"La media aritmética:\",datos['average_rating'].mean())\n",
        "print(\"Desviación Estándar:\",datos['average_rating'].std())\n",
        "print(\"Núm. de observaciones:\",datos['average_rating'].count())"
      ]
    },
    {
      "cell_type": "markdown",
      "metadata": {
        "id": "fC-MaI87R6i4"
      },
      "source": [
        "## Visualizar datos\n",
        "La variable de interés es el idioma (foreign). Se determina la frecuencia."
      ]
    },
    {
      "cell_type": "code",
      "execution_count": null,
      "metadata": {
        "id": "kLhLvC1lR6i4"
      },
      "outputs": [],
      "source": [
        "ceros = datos['foreign'] == 0\n",
        "print(ceros.value_counts())\n",
        "\n",
        "\n",
        "frecuencia = (datos.groupby(\"foreign\").agg(frequency=(\"foreign\", \"count\")))\n",
        "frecuencia"
      ]
    },
    {
      "cell_type": "code",
      "execution_count": null,
      "metadata": {
        "id": "kssfDcz7R6i5"
      },
      "outputs": [],
      "source": [
        "datos.groupby('foreign').count()['name'].plot(kind='bar')"
      ]
    },
    {
      "cell_type": "code",
      "execution_count": null,
      "metadata": {
        "id": "Tc4QaPIDR6i5"
      },
      "outputs": [],
      "source": [
        "datos.groupby('genre').count()['name'].plot(kind='bar')"
      ]
    },
    {
      "cell_type": "code",
      "execution_count": null,
      "metadata": {
        "id": "IjLsAbx-R6i5"
      },
      "outputs": [],
      "source": [
        "datos['foreign'].value_counts()"
      ]
    },
    {
      "cell_type": "markdown",
      "metadata": {
        "id": "KCE7lpcMR6i5"
      },
      "source": [
        "# Interpretación\n",
        "De este conjunto de datos se obtienen datos relacionados con características acerca de peliculas, de este frame de datos hay 31 registros con 8 variables.\n",
        "\n",
        "De la cantidad de peliculas extranjeras, se hace notar que hay tendencia hacia las peliculas estadounidenses, al ser 19, mientras que las de otra nacionalidad son 12.\n",
        "\n",
        "Tambien se ve que hay mas registros sobre peliculas de drama, con 7 registros\n",
        "\n"
      ]
    },
    {
      "cell_type": "markdown",
      "metadata": {
        "id": "r7FOuVG7R6i5"
      },
      "source": []
    }
  ],
  "metadata": {
    "kernelspec": {
      "display_name": "Python 3.9.10 64-bit",
      "language": "python",
      "name": "python3"
    },
    "language_info": {
      "codemirror_mode": {
        "name": "ipython",
        "version": 3
      },
      "file_extension": ".py",
      "mimetype": "text/x-python",
      "name": "python",
      "nbconvert_exporter": "python",
      "pygments_lexer": "ipython3",
      "version": "3.9.10"
    },
    "orig_nbformat": 4,
    "vscode": {
      "interpreter": {
        "hash": "b0fa6594d8f4cbf19f97940f81e996739fb7646882a419484c72d19e05852a7e"
      }
    },
    "colab": {
      "provenance": []
    }
  },
  "nbformat": 4,
  "nbformat_minor": 0
}